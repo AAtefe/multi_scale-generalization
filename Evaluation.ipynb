{
 "cells": [
  {
   "cell_type": "code",
   "execution_count": 1,
   "metadata": {
    "collapsed": true
   },
   "outputs": [],
   "source": [
    "import numpy as np\n",
    "import pandas as pd\n",
    "import seaborn as sns\n",
    "%matplotlib inline\n",
    "import matplotlib.pyplot as plt\n",
    "from scipy import stats"
   ]
  },
  {
   "cell_type": "code",
   "execution_count": null,
   "metadata": {
    "collapsed": true
   },
   "outputs": [],
   "source": []
  },
  {
   "cell_type": "code",
   "execution_count": 2,
   "metadata": {
    "collapsed": true
   },
   "outputs": [],
   "source": [
    "class SSE:\n",
    "    \n",
    "    def __init__(self, X, y):\n",
    "        self.data = X\n",
    "        self.target = y\n",
    "        \n",
    "    def sse(self):\n",
    "        \n",
    "        squared_errors = (self.target - (self.data)) ** 2\n",
    "        return np.sum(squared_errors)"
   ]
  },
  {
   "cell_type": "code",
   "execution_count": 3,
   "metadata": {
    "collapsed": true
   },
   "outputs": [],
   "source": [
    "def pretty_print_SSE(SSE_obj):\n",
    "    '''returns report of statistics for a given model object'''\n",
    "    print('sse:', SSE_obj.sse())"
   ]
  },
  {
   "cell_type": "code",
   "execution_count": null,
   "metadata": {
    "collapsed": true
   },
   "outputs": [],
   "source": []
  },
  {
   "cell_type": "code",
   "execution_count": null,
   "metadata": {
    "collapsed": true
   },
   "outputs": [],
   "source": []
  },
  {
   "cell_type": "code",
   "execution_count": 4,
   "metadata": {
    "collapsed": true
   },
   "outputs": [],
   "source": [
    "# getting ID of B column"
   ]
  },
  {
   "cell_type": "code",
   "execution_count": null,
   "metadata": {
    "collapsed": true
   },
   "outputs": [],
   "source": []
  },
  {
   "cell_type": "code",
   "execution_count": 5,
   "metadata": {},
   "outputs": [
    {
     "data": {
      "text/html": [
       "<div>\n",
       "<style>\n",
       "    .dataframe thead tr:only-child th {\n",
       "        text-align: right;\n",
       "    }\n",
       "\n",
       "    .dataframe thead th {\n",
       "        text-align: left;\n",
       "    }\n",
       "\n",
       "    .dataframe tbody tr th {\n",
       "        vertical-align: top;\n",
       "    }\n",
       "</style>\n",
       "<table border=\"1\" class=\"dataframe\">\n",
       "  <thead>\n",
       "    <tr style=\"text-align: right;\">\n",
       "      <th></th>\n",
       "      <th>parent1_1000</th>\n",
       "      <th>parent2_1000</th>\n",
       "      <th>total_flows</th>\n",
       "    </tr>\n",
       "  </thead>\n",
       "  <tbody>\n",
       "    <tr>\n",
       "      <th>0</th>\n",
       "      <td>400381361</td>\n",
       "      <td>400381361</td>\n",
       "      <td>1685</td>\n",
       "    </tr>\n",
       "    <tr>\n",
       "      <th>1</th>\n",
       "      <td>1614609930</td>\n",
       "      <td>400381361</td>\n",
       "      <td>1567</td>\n",
       "    </tr>\n",
       "    <tr>\n",
       "      <th>2</th>\n",
       "      <td>400381361</td>\n",
       "      <td>400381361</td>\n",
       "      <td>38</td>\n",
       "    </tr>\n",
       "    <tr>\n",
       "      <th>3</th>\n",
       "      <td>1001672364</td>\n",
       "      <td>400381361</td>\n",
       "      <td>6</td>\n",
       "    </tr>\n",
       "    <tr>\n",
       "      <th>4</th>\n",
       "      <td>1001672364</td>\n",
       "      <td>400381361</td>\n",
       "      <td>2</td>\n",
       "    </tr>\n",
       "  </tbody>\n",
       "</table>\n",
       "</div>"
      ],
      "text/plain": [
       "   parent1_1000  parent2_1000  total_flows\n",
       "0     400381361     400381361         1685\n",
       "1    1614609930     400381361         1567\n",
       "2     400381361     400381361           38\n",
       "3    1001672364     400381361            6\n",
       "4    1001672364     400381361            2"
      ]
     },
     "execution_count": 5,
     "metadata": {},
     "output_type": "execute_result"
    }
   ],
   "source": [
    "df1_1000=pd.read_csv(\"createdflow1000.csv\")\n",
    "df1_1000=df1_1000.drop(df1_1000.columns[[ 0]], axis=1) # inserting ceated flow 1500 made by me\n",
    "df1_1000.head()"
   ]
  },
  {
   "cell_type": "code",
   "execution_count": 6,
   "metadata": {},
   "outputs": [
    {
     "data": {
      "text/html": [
       "<div>\n",
       "<style>\n",
       "    .dataframe thead tr:only-child th {\n",
       "        text-align: right;\n",
       "    }\n",
       "\n",
       "    .dataframe thead th {\n",
       "        text-align: left;\n",
       "    }\n",
       "\n",
       "    .dataframe tbody tr th {\n",
       "        vertical-align: top;\n",
       "    }\n",
       "</style>\n",
       "<table border=\"1\" class=\"dataframe\">\n",
       "  <thead>\n",
       "    <tr style=\"text-align: right;\">\n",
       "      <th></th>\n",
       "      <th>from_cellid</th>\n",
       "      <th>to_cellid</th>\n",
       "      <th>total_flows</th>\n",
       "    </tr>\n",
       "  </thead>\n",
       "  <tbody>\n",
       "    <tr>\n",
       "      <th>0</th>\n",
       "      <td>1669783857</td>\n",
       "      <td>573601754</td>\n",
       "      <td>155</td>\n",
       "    </tr>\n",
       "    <tr>\n",
       "      <th>1</th>\n",
       "      <td>1669783857</td>\n",
       "      <td>1012251082</td>\n",
       "      <td>117</td>\n",
       "    </tr>\n",
       "    <tr>\n",
       "      <th>2</th>\n",
       "      <td>1669783857</td>\n",
       "      <td>1761235633</td>\n",
       "      <td>109</td>\n",
       "    </tr>\n",
       "    <tr>\n",
       "      <th>3</th>\n",
       "      <td>1669783857</td>\n",
       "      <td>1993249729</td>\n",
       "      <td>70</td>\n",
       "    </tr>\n",
       "    <tr>\n",
       "      <th>4</th>\n",
       "      <td>1669783857</td>\n",
       "      <td>450818450</td>\n",
       "      <td>174</td>\n",
       "    </tr>\n",
       "  </tbody>\n",
       "</table>\n",
       "</div>"
      ],
      "text/plain": [
       "   from_cellid   to_cellid  total_flows\n",
       "0   1669783857   573601754          155\n",
       "1   1669783857  1012251082          117\n",
       "2   1669783857  1761235633          109\n",
       "3   1669783857  1993249729           70\n",
       "4   1669783857   450818450          174"
      ]
     },
     "execution_count": 6,
     "metadata": {},
     "output_type": "execute_result"
    }
   ],
   "source": [
    "df2_1000=pd.read_csv(\"dfflow1000_3.csv\")\n",
    "df2_1000=df2_1000.drop(df2_1000.columns[[ 0]], axis=1)\n",
    "df2_1000.head()"
   ]
  },
  {
   "cell_type": "code",
   "execution_count": 7,
   "metadata": {},
   "outputs": [
    {
     "data": {
      "text/html": [
       "<div>\n",
       "<style>\n",
       "    .dataframe thead tr:only-child th {\n",
       "        text-align: right;\n",
       "    }\n",
       "\n",
       "    .dataframe thead th {\n",
       "        text-align: left;\n",
       "    }\n",
       "\n",
       "    .dataframe tbody tr th {\n",
       "        vertical-align: top;\n",
       "    }\n",
       "</style>\n",
       "<table border=\"1\" class=\"dataframe\">\n",
       "  <thead>\n",
       "    <tr style=\"text-align: right;\">\n",
       "      <th></th>\n",
       "      <th>from_cellid</th>\n",
       "      <th>to_cellid</th>\n",
       "      <th>total_flows_x</th>\n",
       "      <th>parent1_1000</th>\n",
       "      <th>parent2_1000</th>\n",
       "      <th>total_flows_y</th>\n",
       "    </tr>\n",
       "  </thead>\n",
       "  <tbody>\n",
       "    <tr>\n",
       "      <th>0</th>\n",
       "      <td>1669783857</td>\n",
       "      <td>1012251082</td>\n",
       "      <td>117</td>\n",
       "      <td>1669783857</td>\n",
       "      <td>1012251082</td>\n",
       "      <td>25</td>\n",
       "    </tr>\n",
       "    <tr>\n",
       "      <th>1</th>\n",
       "      <td>1669783857</td>\n",
       "      <td>1012251082</td>\n",
       "      <td>117</td>\n",
       "      <td>1669783857</td>\n",
       "      <td>1012251082</td>\n",
       "      <td>46</td>\n",
       "    </tr>\n",
       "    <tr>\n",
       "      <th>2</th>\n",
       "      <td>1669783857</td>\n",
       "      <td>1012251082</td>\n",
       "      <td>117</td>\n",
       "      <td>1669783857</td>\n",
       "      <td>1012251082</td>\n",
       "      <td>28</td>\n",
       "    </tr>\n",
       "    <tr>\n",
       "      <th>3</th>\n",
       "      <td>1669783857</td>\n",
       "      <td>1012251082</td>\n",
       "      <td>117</td>\n",
       "      <td>1669783857</td>\n",
       "      <td>1012251082</td>\n",
       "      <td>45</td>\n",
       "    </tr>\n",
       "    <tr>\n",
       "      <th>4</th>\n",
       "      <td>1669783857</td>\n",
       "      <td>1012251082</td>\n",
       "      <td>117</td>\n",
       "      <td>1669783857</td>\n",
       "      <td>1012251082</td>\n",
       "      <td>2</td>\n",
       "    </tr>\n",
       "  </tbody>\n",
       "</table>\n",
       "</div>"
      ],
      "text/plain": [
       "   from_cellid   to_cellid  total_flows_x  parent1_1000  parent2_1000  \\\n",
       "0   1669783857  1012251082            117    1669783857    1012251082   \n",
       "1   1669783857  1012251082            117    1669783857    1012251082   \n",
       "2   1669783857  1012251082            117    1669783857    1012251082   \n",
       "3   1669783857  1012251082            117    1669783857    1012251082   \n",
       "4   1669783857  1012251082            117    1669783857    1012251082   \n",
       "\n",
       "   total_flows_y  \n",
       "0             25  \n",
       "1             46  \n",
       "2             28  \n",
       "3             45  \n",
       "4              2  "
      ]
     },
     "execution_count": 7,
     "metadata": {},
     "output_type": "execute_result"
    }
   ],
   "source": [
    "df3_1000=df2_1000.merge(df1_1000,left_on=[\"from_cellid\",\"to_cellid\"],right_on=[\"parent1_1000\",\"parent2_1000\"])\n",
    "df3_1000.head()"
   ]
  },
  {
   "cell_type": "code",
   "execution_count": 8,
   "metadata": {},
   "outputs": [
    {
     "data": {
      "text/html": [
       "<div>\n",
       "<style>\n",
       "    .dataframe thead tr:only-child th {\n",
       "        text-align: right;\n",
       "    }\n",
       "\n",
       "    .dataframe thead th {\n",
       "        text-align: left;\n",
       "    }\n",
       "\n",
       "    .dataframe tbody tr th {\n",
       "        vertical-align: top;\n",
       "    }\n",
       "</style>\n",
       "<table border=\"1\" class=\"dataframe\">\n",
       "  <thead>\n",
       "    <tr style=\"text-align: right;\">\n",
       "      <th></th>\n",
       "      <th></th>\n",
       "      <th>total_flows_x</th>\n",
       "      <th>total_flows_y</th>\n",
       "    </tr>\n",
       "    <tr>\n",
       "      <th>parent1_1000</th>\n",
       "      <th>parent2_1000</th>\n",
       "      <th></th>\n",
       "      <th></th>\n",
       "    </tr>\n",
       "  </thead>\n",
       "  <tbody>\n",
       "    <tr>\n",
       "      <th rowspan=\"4\" valign=\"top\">499416</th>\n",
       "      <th>894355789</th>\n",
       "      <td>46</td>\n",
       "      <td>43</td>\n",
       "    </tr>\n",
       "    <tr>\n",
       "      <th>1174053714</th>\n",
       "      <td>8</td>\n",
       "      <td>8</td>\n",
       "    </tr>\n",
       "    <tr>\n",
       "      <th>1442048941</th>\n",
       "      <td>23</td>\n",
       "      <td>3</td>\n",
       "    </tr>\n",
       "    <tr>\n",
       "      <th>1459719841</th>\n",
       "      <td>33</td>\n",
       "      <td>47</td>\n",
       "    </tr>\n",
       "    <tr>\n",
       "      <th>676626</th>\n",
       "      <th>1366793726</th>\n",
       "      <td>3</td>\n",
       "      <td>2</td>\n",
       "    </tr>\n",
       "  </tbody>\n",
       "</table>\n",
       "</div>"
      ],
      "text/plain": [
       "                           total_flows_x  total_flows_y\n",
       "parent1_1000 parent2_1000                              \n",
       "499416       894355789                46             43\n",
       "             1174053714                8              8\n",
       "             1442048941               23              3\n",
       "             1459719841               33             47\n",
       "676626       1366793726                3              2"
      ]
     },
     "execution_count": 8,
     "metadata": {},
     "output_type": "execute_result"
    }
   ],
   "source": [
    "df33_1000=df3_1000.groupby([\"parent1_1000\",\"parent2_1000\"]).agg({\"total_flows_x\":\"min\",\"total_flows_y\":\"sum\"})\n",
    "df33_1000.head()"
   ]
  },
  {
   "cell_type": "code",
   "execution_count": 9,
   "metadata": {},
   "outputs": [
    {
     "data": {
      "text/plain": [
       "(59959, 2)"
      ]
     },
     "execution_count": 9,
     "metadata": {},
     "output_type": "execute_result"
    }
   ],
   "source": [
    "df33_1000.shape\n",
    "                        "
   ]
  },
  {
   "cell_type": "code",
   "execution_count": 10,
   "metadata": {},
   "outputs": [
    {
     "data": {
      "text/plain": [
       "<seaborn.axisgrid.JointGrid at 0x2360792c438>"
      ]
     },
     "execution_count": 10,
     "metadata": {},
     "output_type": "execute_result"
    },
    {
     "data": {
      "image/png": "[encoded data removed]",
      "text/plain": [
       "<matplotlib.figure.Figure at 0x2360792c860>"
      ]
     },
     "metadata": {},
     "output_type": "display_data"
    }
   ],
   "source": [
    "sns.jointplot(x='total_flows_y',y='total_flows_x',data=df33_1000,kind='scatter')"
   ]
  },
  {
   "cell_type": "code",
   "execution_count": 11,
   "metadata": {},
   "outputs": [
    {
     "data": {
      "text/plain": [
       "(0.92315872157603851, 0.0)"
      ]
     },
     "execution_count": 11,
     "metadata": {},
     "output_type": "execute_result"
    }
   ],
   "source": [
    "stats.pearsonr(df33_1000.total_flows_y, df33_1000.total_flows_x)"
   ]
  },
  {
   "cell_type": "code",
   "execution_count": 12,
   "metadata": {},
   "outputs": [
    {
     "data": {
      "text/plain": [
       "SpearmanrResult(correlation=0.84713233209542038, pvalue=0.0)"
      ]
     },
     "execution_count": 12,
     "metadata": {},
     "output_type": "execute_result"
    }
   ],
   "source": [
    "stats.spearmanr(df33_1000.total_flows_y, df33_1000.total_flows_x)"
   ]
  },
  {
   "cell_type": "code",
   "execution_count": null,
   "metadata": {
    "collapsed": true
   },
   "outputs": [],
   "source": []
  },
  {
   "cell_type": "code",
   "execution_count": null,
   "metadata": {
    "collapsed": true
   },
   "outputs": [],
   "source": []
  },
  {
   "cell_type": "code",
   "execution_count": null,
   "metadata": {
    "collapsed": true
   },
   "outputs": [],
   "source": []
  },
  {
   "cell_type": "code",
   "execution_count": null,
   "metadata": {
    "collapsed": true
   },
   "outputs": [],
   "source": []
  },
  {
   "cell_type": "code",
   "execution_count": null,
   "metadata": {
    "collapsed": true
   },
   "outputs": [],
   "source": []
  },
  {
   "cell_type": "code",
   "execution_count": null,
   "metadata": {
    "collapsed": true
   },
   "outputs": [],
   "source": []
  },
  {
   "cell_type": "code",
   "execution_count": null,
   "metadata": {
    "collapsed": true
   },
   "outputs": [],
   "source": []
  },
  {
   "cell_type": "markdown",
   "metadata": {
    "collapsed": true
   },
   "source": [
    "# Evaluating createdflow 1500 "
   ]
  },
  {
   "cell_type": "code",
   "execution_count": 13,
   "metadata": {},
   "outputs": [
    {
     "data": {
      "text/html": [
       "<div>\n",
       "<style>\n",
       "    .dataframe thead tr:only-child th {\n",
       "        text-align: right;\n",
       "    }\n",
       "\n",
       "    .dataframe thead th {\n",
       "        text-align: left;\n",
       "    }\n",
       "\n",
       "    .dataframe tbody tr th {\n",
       "        vertical-align: top;\n",
       "    }\n",
       "</style>\n",
       "<table border=\"1\" class=\"dataframe\">\n",
       "  <thead>\n",
       "    <tr style=\"text-align: right;\">\n",
       "      <th></th>\n",
       "      <th>parent1_1500</th>\n",
       "      <th>parent2_1500</th>\n",
       "      <th>total_flows</th>\n",
       "    </tr>\n",
       "  </thead>\n",
       "  <tbody>\n",
       "    <tr>\n",
       "      <th>0</th>\n",
       "      <td>1803986340</td>\n",
       "      <td>1803986340</td>\n",
       "      <td>1685</td>\n",
       "    </tr>\n",
       "    <tr>\n",
       "      <th>1</th>\n",
       "      <td>1803986340</td>\n",
       "      <td>1803986340</td>\n",
       "      <td>38</td>\n",
       "    </tr>\n",
       "    <tr>\n",
       "      <th>2</th>\n",
       "      <td>1803986340</td>\n",
       "      <td>1803986340</td>\n",
       "      <td>1470</td>\n",
       "    </tr>\n",
       "    <tr>\n",
       "      <th>3</th>\n",
       "      <td>1803986340</td>\n",
       "      <td>1803986340</td>\n",
       "      <td>1598</td>\n",
       "    </tr>\n",
       "    <tr>\n",
       "      <th>4</th>\n",
       "      <td>1803986340</td>\n",
       "      <td>1803986340</td>\n",
       "      <td>16</td>\n",
       "    </tr>\n",
       "  </tbody>\n",
       "</table>\n",
       "</div>"
      ],
      "text/plain": [
       "   parent1_1500  parent2_1500  total_flows\n",
       "0    1803986340    1803986340         1685\n",
       "1    1803986340    1803986340           38\n",
       "2    1803986340    1803986340         1470\n",
       "3    1803986340    1803986340         1598\n",
       "4    1803986340    1803986340           16"
      ]
     },
     "execution_count": 13,
     "metadata": {},
     "output_type": "execute_result"
    }
   ],
   "source": [
    "df1_1500=pd.read_csv(\"createdflow1500.csv\")\n",
    "df1_1500=df1_1500.drop(df1_1500.columns[[ 0]], axis=1) # inserting ceated flow 1500 made by me\n",
    "df1_1500.head()"
   ]
  },
  {
   "cell_type": "code",
   "execution_count": null,
   "metadata": {
    "collapsed": true
   },
   "outputs": [],
   "source": []
  },
  {
   "cell_type": "code",
   "execution_count": 14,
   "metadata": {},
   "outputs": [
    {
     "data": {
      "text/html": [
       "<div>\n",
       "<style>\n",
       "    .dataframe thead tr:only-child th {\n",
       "        text-align: right;\n",
       "    }\n",
       "\n",
       "    .dataframe thead th {\n",
       "        text-align: left;\n",
       "    }\n",
       "\n",
       "    .dataframe tbody tr th {\n",
       "        vertical-align: top;\n",
       "    }\n",
       "</style>\n",
       "<table border=\"1\" class=\"dataframe\">\n",
       "  <thead>\n",
       "    <tr style=\"text-align: right;\">\n",
       "      <th></th>\n",
       "      <th>from_cellid</th>\n",
       "      <th>to_cellid</th>\n",
       "      <th>total_flows</th>\n",
       "    </tr>\n",
       "  </thead>\n",
       "  <tbody>\n",
       "    <tr>\n",
       "      <th>0</th>\n",
       "      <td>1803986340</td>\n",
       "      <td>1700261407</td>\n",
       "      <td>2070</td>\n",
       "    </tr>\n",
       "    <tr>\n",
       "      <th>1</th>\n",
       "      <td>1803986340</td>\n",
       "      <td>649076654</td>\n",
       "      <td>4655</td>\n",
       "    </tr>\n",
       "    <tr>\n",
       "      <th>2</th>\n",
       "      <td>1803986340</td>\n",
       "      <td>1139373154</td>\n",
       "      <td>6063</td>\n",
       "    </tr>\n",
       "    <tr>\n",
       "      <th>3</th>\n",
       "      <td>1803986340</td>\n",
       "      <td>304769964</td>\n",
       "      <td>66</td>\n",
       "    </tr>\n",
       "    <tr>\n",
       "      <th>4</th>\n",
       "      <td>1803986340</td>\n",
       "      <td>491026571</td>\n",
       "      <td>35</td>\n",
       "    </tr>\n",
       "  </tbody>\n",
       "</table>\n",
       "</div>"
      ],
      "text/plain": [
       "   from_cellid   to_cellid  total_flows\n",
       "0   1803986340  1700261407         2070\n",
       "1   1803986340   649076654         4655\n",
       "2   1803986340  1139373154         6063\n",
       "3   1803986340   304769964           66\n",
       "4   1803986340   491026571           35"
      ]
     },
     "execution_count": 14,
     "metadata": {},
     "output_type": "execute_result"
    }
   ],
   "source": [
    "df2_1500=pd.read_csv(\"dfflow1500_3.csv\")\n",
    "df2_1500=df2_1500.drop(df2_1500.columns[[ 0]], axis=1)  # inserting flow1500 given by professor\n",
    "df2_1500.head()"
   ]
  },
  {
   "cell_type": "code",
   "execution_count": 15,
   "metadata": {
    "collapsed": true
   },
   "outputs": [],
   "source": [
    "df3_1500=df2_1500.merge(df1_1500,left_on=[\"from_cellid\",\"to_cellid\"],right_on=[\"parent1_1500\",\"parent2_1500\"])\n",
    "                        "
   ]
  },
  {
   "cell_type": "code",
   "execution_count": 16,
   "metadata": {},
   "outputs": [
    {
     "data": {
      "text/html": [
       "<div>\n",
       "<style>\n",
       "    .dataframe thead tr:only-child th {\n",
       "        text-align: right;\n",
       "    }\n",
       "\n",
       "    .dataframe thead th {\n",
       "        text-align: left;\n",
       "    }\n",
       "\n",
       "    .dataframe tbody tr th {\n",
       "        vertical-align: top;\n",
       "    }\n",
       "</style>\n",
       "<table border=\"1\" class=\"dataframe\">\n",
       "  <thead>\n",
       "    <tr style=\"text-align: right;\">\n",
       "      <th></th>\n",
       "      <th>from_cellid</th>\n",
       "      <th>to_cellid</th>\n",
       "      <th>total_flows_x</th>\n",
       "      <th>parent1_1500</th>\n",
       "      <th>parent2_1500</th>\n",
       "      <th>total_flows_y</th>\n",
       "    </tr>\n",
       "  </thead>\n",
       "  <tbody>\n",
       "    <tr>\n",
       "      <th>0</th>\n",
       "      <td>1803986340</td>\n",
       "      <td>1700261407</td>\n",
       "      <td>2070</td>\n",
       "      <td>1803986340</td>\n",
       "      <td>1700261407</td>\n",
       "      <td>1723</td>\n",
       "    </tr>\n",
       "    <tr>\n",
       "      <th>1</th>\n",
       "      <td>1803986340</td>\n",
       "      <td>1700261407</td>\n",
       "      <td>2070</td>\n",
       "      <td>1803986340</td>\n",
       "      <td>1700261407</td>\n",
       "      <td>47</td>\n",
       "    </tr>\n",
       "    <tr>\n",
       "      <th>2</th>\n",
       "      <td>1803986340</td>\n",
       "      <td>649076654</td>\n",
       "      <td>4655</td>\n",
       "      <td>1803986340</td>\n",
       "      <td>649076654</td>\n",
       "      <td>7</td>\n",
       "    </tr>\n",
       "    <tr>\n",
       "      <th>3</th>\n",
       "      <td>1803986340</td>\n",
       "      <td>649076654</td>\n",
       "      <td>4655</td>\n",
       "      <td>1803986340</td>\n",
       "      <td>649076654</td>\n",
       "      <td>61</td>\n",
       "    </tr>\n",
       "    <tr>\n",
       "      <th>4</th>\n",
       "      <td>1803986340</td>\n",
       "      <td>649076654</td>\n",
       "      <td>4655</td>\n",
       "      <td>1803986340</td>\n",
       "      <td>649076654</td>\n",
       "      <td>2834</td>\n",
       "    </tr>\n",
       "  </tbody>\n",
       "</table>\n",
       "</div>"
      ],
      "text/plain": [
       "   from_cellid   to_cellid  total_flows_x  parent1_1500  parent2_1500  \\\n",
       "0   1803986340  1700261407           2070    1803986340    1700261407   \n",
       "1   1803986340  1700261407           2070    1803986340    1700261407   \n",
       "2   1803986340   649076654           4655    1803986340     649076654   \n",
       "3   1803986340   649076654           4655    1803986340     649076654   \n",
       "4   1803986340   649076654           4655    1803986340     649076654   \n",
       "\n",
       "   total_flows_y  \n",
       "0           1723  \n",
       "1             47  \n",
       "2              7  \n",
       "3             61  \n",
       "4           2834  "
      ]
     },
     "execution_count": 16,
     "metadata": {},
     "output_type": "execute_result"
    }
   ],
   "source": [
    "df3_1500.head()"
   ]
  },
  {
   "cell_type": "code",
   "execution_count": 17,
   "metadata": {
    "collapsed": true
   },
   "outputs": [],
   "source": [
    "df33_1500=df3_1500.groupby([\"parent1_1500\",\"parent2_1500\"]).agg({\"total_flows_x\":\"min\",\"total_flows_y\":\"sum\"})"
   ]
  },
  {
   "cell_type": "code",
   "execution_count": 18,
   "metadata": {},
   "outputs": [
    {
     "data": {
      "text/html": [
       "<div>\n",
       "<style>\n",
       "    .dataframe thead tr:only-child th {\n",
       "        text-align: right;\n",
       "    }\n",
       "\n",
       "    .dataframe thead th {\n",
       "        text-align: left;\n",
       "    }\n",
       "\n",
       "    .dataframe tbody tr th {\n",
       "        vertical-align: top;\n",
       "    }\n",
       "</style>\n",
       "<table border=\"1\" class=\"dataframe\">\n",
       "  <thead>\n",
       "    <tr style=\"text-align: right;\">\n",
       "      <th></th>\n",
       "      <th></th>\n",
       "      <th>total_flows_x</th>\n",
       "      <th>total_flows_y</th>\n",
       "    </tr>\n",
       "    <tr>\n",
       "      <th>parent1_1500</th>\n",
       "      <th>parent2_1500</th>\n",
       "      <th></th>\n",
       "      <th></th>\n",
       "    </tr>\n",
       "  </thead>\n",
       "  <tbody>\n",
       "    <tr>\n",
       "      <th rowspan=\"3\" valign=\"top\">410030</th>\n",
       "      <th>266091396</th>\n",
       "      <td>2</td>\n",
       "      <td>1</td>\n",
       "    </tr>\n",
       "    <tr>\n",
       "      <th>1250154088</th>\n",
       "      <td>7</td>\n",
       "      <td>6</td>\n",
       "    </tr>\n",
       "    <tr>\n",
       "      <th>1788704020</th>\n",
       "      <td>1</td>\n",
       "      <td>3</td>\n",
       "    </tr>\n",
       "    <tr>\n",
       "      <th rowspan=\"2\" valign=\"top\">754032</th>\n",
       "      <th>59327488</th>\n",
       "      <td>2028</td>\n",
       "      <td>1773</td>\n",
       "    </tr>\n",
       "    <tr>\n",
       "      <th>222597220</th>\n",
       "      <td>407</td>\n",
       "      <td>840</td>\n",
       "    </tr>\n",
       "  </tbody>\n",
       "</table>\n",
       "</div>"
      ],
      "text/plain": [
       "                           total_flows_x  total_flows_y\n",
       "parent1_1500 parent2_1500                              \n",
       "410030       266091396                 2              1\n",
       "             1250154088                7              6\n",
       "             1788704020                1              3\n",
       "754032       59327488               2028           1773\n",
       "             222597220               407            840"
      ]
     },
     "execution_count": 18,
     "metadata": {},
     "output_type": "execute_result"
    }
   ],
   "source": [
    "df33_1500.head()"
   ]
  },
  {
   "cell_type": "code",
   "execution_count": 19,
   "metadata": {},
   "outputs": [
    {
     "data": {
      "text/plain": [
       "(30625, 2)"
      ]
     },
     "execution_count": 19,
     "metadata": {},
     "output_type": "execute_result"
    }
   ],
   "source": [
    "df33_1500.shape"
   ]
  },
  {
   "cell_type": "code",
   "execution_count": 20,
   "metadata": {},
   "outputs": [
    {
     "name": "stdout",
     "output_type": "stream",
     "text": [
      "sse: 631962686216\n"
     ]
    }
   ],
   "source": [
    "d_1500=SSE(df33_1500.total_flows_x,df33_1500.total_flows_y)\n",
    "pretty_print_SSE(d_1500)"
   ]
  },
  {
   "cell_type": "code",
   "execution_count": 21,
   "metadata": {},
   "outputs": [
    {
     "data": {
      "image/png": "[encoded data removed]",
      "text/plain": [
       "<matplotlib.figure.Figure at 0x23608d7e320>"
      ]
     },
     "metadata": {},
     "output_type": "display_data"
    }
   ],
   "source": [
    "\n",
    "sns.jointplot(x='total_flows_x',y='total_flows_y',data=df33_1500,kind='scatter')\n",
    "plt.savefig(\"approximate 1000-1500_Step.png\")"
   ]
  },
  {
   "cell_type": "code",
   "execution_count": 22,
   "metadata": {},
   "outputs": [
    {
     "data": {
      "text/plain": [
       "(0.94025937572278817, 0.0)"
      ]
     },
     "execution_count": 22,
     "metadata": {},
     "output_type": "execute_result"
    }
   ],
   "source": [
    "stats.pearsonr(df33_1500.total_flows_y, df33_1500.total_flows_x)"
   ]
  },
  {
   "cell_type": "code",
   "execution_count": 23,
   "metadata": {},
   "outputs": [
    {
     "data": {
      "text/plain": [
       "SpearmanrResult(correlation=0.83476380897072344, pvalue=0.0)"
      ]
     },
     "execution_count": 23,
     "metadata": {},
     "output_type": "execute_result"
    }
   ],
   "source": [
    "stats.spearmanr(df33_1500.total_flows_y, df33_1500.total_flows_x)"
   ]
  },
  {
   "cell_type": "markdown",
   "metadata": {},
   "source": [
    "# Evaluating createdflow1500_jump with dfflow1500 ,which professor gave \n"
   ]
  },
  {
   "cell_type": "code",
   "execution_count": 24,
   "metadata": {},
   "outputs": [
    {
     "data": {
      "text/html": [
       "<div>\n",
       "<style>\n",
       "    .dataframe thead tr:only-child th {\n",
       "        text-align: right;\n",
       "    }\n",
       "\n",
       "    .dataframe thead th {\n",
       "        text-align: left;\n",
       "    }\n",
       "\n",
       "    .dataframe tbody tr th {\n",
       "        vertical-align: top;\n",
       "    }\n",
       "</style>\n",
       "<table border=\"1\" class=\"dataframe\">\n",
       "  <thead>\n",
       "    <tr style=\"text-align: right;\">\n",
       "      <th></th>\n",
       "      <th>parent1_1500</th>\n",
       "      <th>parent2_1500</th>\n",
       "      <th>total_flows</th>\n",
       "    </tr>\n",
       "  </thead>\n",
       "  <tbody>\n",
       "    <tr>\n",
       "      <th>0</th>\n",
       "      <td>1803986340</td>\n",
       "      <td>1803986340</td>\n",
       "      <td>1685</td>\n",
       "    </tr>\n",
       "    <tr>\n",
       "      <th>1</th>\n",
       "      <td>1803986340</td>\n",
       "      <td>1803986340</td>\n",
       "      <td>1567</td>\n",
       "    </tr>\n",
       "    <tr>\n",
       "      <th>2</th>\n",
       "      <td>1803986340</td>\n",
       "      <td>1803986340</td>\n",
       "      <td>38</td>\n",
       "    </tr>\n",
       "    <tr>\n",
       "      <th>3</th>\n",
       "      <td>1803986340</td>\n",
       "      <td>1803986340</td>\n",
       "      <td>6</td>\n",
       "    </tr>\n",
       "    <tr>\n",
       "      <th>4</th>\n",
       "      <td>1803986340</td>\n",
       "      <td>1803986340</td>\n",
       "      <td>2</td>\n",
       "    </tr>\n",
       "  </tbody>\n",
       "</table>\n",
       "</div>"
      ],
      "text/plain": [
       "   parent1_1500  parent2_1500  total_flows\n",
       "0    1803986340    1803986340         1685\n",
       "1    1803986340    1803986340         1567\n",
       "2    1803986340    1803986340           38\n",
       "3    1803986340    1803986340            6\n",
       "4    1803986340    1803986340            2"
      ]
     },
     "execution_count": 24,
     "metadata": {},
     "output_type": "execute_result"
    }
   ],
   "source": [
    "df1_1500_jump=pd.read_csv(\"createdflow1500_jump.csv\")\n",
    "df1_1500_jump=df1_1500_jump.drop(df1_1500_jump.columns[[ 0]], axis=1)\n",
    "df1_1500_jump.head()"
   ]
  },
  {
   "cell_type": "code",
   "execution_count": 25,
   "metadata": {},
   "outputs": [
    {
     "data": {
      "text/html": [
       "<div>\n",
       "<style>\n",
       "    .dataframe thead tr:only-child th {\n",
       "        text-align: right;\n",
       "    }\n",
       "\n",
       "    .dataframe thead th {\n",
       "        text-align: left;\n",
       "    }\n",
       "\n",
       "    .dataframe tbody tr th {\n",
       "        vertical-align: top;\n",
       "    }\n",
       "</style>\n",
       "<table border=\"1\" class=\"dataframe\">\n",
       "  <thead>\n",
       "    <tr style=\"text-align: right;\">\n",
       "      <th></th>\n",
       "      <th>from_cellid</th>\n",
       "      <th>to_cellid</th>\n",
       "      <th>total_flows</th>\n",
       "    </tr>\n",
       "  </thead>\n",
       "  <tbody>\n",
       "    <tr>\n",
       "      <th>0</th>\n",
       "      <td>1803986340</td>\n",
       "      <td>1700261407</td>\n",
       "      <td>2070</td>\n",
       "    </tr>\n",
       "    <tr>\n",
       "      <th>1</th>\n",
       "      <td>1803986340</td>\n",
       "      <td>649076654</td>\n",
       "      <td>4655</td>\n",
       "    </tr>\n",
       "    <tr>\n",
       "      <th>2</th>\n",
       "      <td>1803986340</td>\n",
       "      <td>1139373154</td>\n",
       "      <td>6063</td>\n",
       "    </tr>\n",
       "    <tr>\n",
       "      <th>3</th>\n",
       "      <td>1803986340</td>\n",
       "      <td>304769964</td>\n",
       "      <td>66</td>\n",
       "    </tr>\n",
       "    <tr>\n",
       "      <th>4</th>\n",
       "      <td>1803986340</td>\n",
       "      <td>491026571</td>\n",
       "      <td>35</td>\n",
       "    </tr>\n",
       "  </tbody>\n",
       "</table>\n",
       "</div>"
      ],
      "text/plain": [
       "   from_cellid   to_cellid  total_flows\n",
       "0   1803986340  1700261407         2070\n",
       "1   1803986340   649076654         4655\n",
       "2   1803986340  1139373154         6063\n",
       "3   1803986340   304769964           66\n",
       "4   1803986340   491026571           35"
      ]
     },
     "execution_count": 25,
     "metadata": {},
     "output_type": "execute_result"
    }
   ],
   "source": [
    "df2_1500=pd.read_csv(\"dfflow1500_3.csv\")  # inserting the dfflow1500 which professor gave me\n",
    "df2_1500=df2_1500.drop(df2_1500.columns[[ 0]], axis=1)\n",
    "df2_1500.head()"
   ]
  },
  {
   "cell_type": "code",
   "execution_count": 26,
   "metadata": {},
   "outputs": [
    {
     "data": {
      "text/html": [
       "<div>\n",
       "<style>\n",
       "    .dataframe thead tr:only-child th {\n",
       "        text-align: right;\n",
       "    }\n",
       "\n",
       "    .dataframe thead th {\n",
       "        text-align: left;\n",
       "    }\n",
       "\n",
       "    .dataframe tbody tr th {\n",
       "        vertical-align: top;\n",
       "    }\n",
       "</style>\n",
       "<table border=\"1\" class=\"dataframe\">\n",
       "  <thead>\n",
       "    <tr style=\"text-align: right;\">\n",
       "      <th></th>\n",
       "      <th>from_cellid</th>\n",
       "      <th>to_cellid</th>\n",
       "      <th>total_flows_x</th>\n",
       "      <th>parent1_1500</th>\n",
       "      <th>parent2_1500</th>\n",
       "      <th>total_flows_y</th>\n",
       "    </tr>\n",
       "  </thead>\n",
       "  <tbody>\n",
       "    <tr>\n",
       "      <th>0</th>\n",
       "      <td>1803986340</td>\n",
       "      <td>1700261407</td>\n",
       "      <td>2070</td>\n",
       "      <td>1803986340</td>\n",
       "      <td>1700261407</td>\n",
       "      <td>1</td>\n",
       "    </tr>\n",
       "    <tr>\n",
       "      <th>1</th>\n",
       "      <td>1803986340</td>\n",
       "      <td>649076654</td>\n",
       "      <td>4655</td>\n",
       "      <td>1803986340</td>\n",
       "      <td>649076654</td>\n",
       "      <td>1705</td>\n",
       "    </tr>\n",
       "    <tr>\n",
       "      <th>2</th>\n",
       "      <td>1803986340</td>\n",
       "      <td>649076654</td>\n",
       "      <td>4655</td>\n",
       "      <td>1803986340</td>\n",
       "      <td>649076654</td>\n",
       "      <td>32</td>\n",
       "    </tr>\n",
       "    <tr>\n",
       "      <th>3</th>\n",
       "      <td>1803986340</td>\n",
       "      <td>649076654</td>\n",
       "      <td>4655</td>\n",
       "      <td>1803986340</td>\n",
       "      <td>649076654</td>\n",
       "      <td>56</td>\n",
       "    </tr>\n",
       "    <tr>\n",
       "      <th>4</th>\n",
       "      <td>1803986340</td>\n",
       "      <td>649076654</td>\n",
       "      <td>4655</td>\n",
       "      <td>1803986340</td>\n",
       "      <td>649076654</td>\n",
       "      <td>5</td>\n",
       "    </tr>\n",
       "  </tbody>\n",
       "</table>\n",
       "</div>"
      ],
      "text/plain": [
       "   from_cellid   to_cellid  total_flows_x  parent1_1500  parent2_1500  \\\n",
       "0   1803986340  1700261407           2070    1803986340    1700261407   \n",
       "1   1803986340   649076654           4655    1803986340     649076654   \n",
       "2   1803986340   649076654           4655    1803986340     649076654   \n",
       "3   1803986340   649076654           4655    1803986340     649076654   \n",
       "4   1803986340   649076654           4655    1803986340     649076654   \n",
       "\n",
       "   total_flows_y  \n",
       "0              1  \n",
       "1           1705  \n",
       "2             32  \n",
       "3             56  \n",
       "4              5  "
      ]
     },
     "execution_count": 26,
     "metadata": {},
     "output_type": "execute_result"
    }
   ],
   "source": [
    "df3_1500_jump=df2_1500.merge(df1_1500_jump,left_on=[\"from_cellid\",\"to_cellid\"],right_on=[\"parent1_1500\",\"parent2_1500\"])\n",
    "df3_1500_jump.head()"
   ]
  },
  {
   "cell_type": "code",
   "execution_count": 27,
   "metadata": {},
   "outputs": [
    {
     "data": {
      "text/html": [
       "<div>\n",
       "<style>\n",
       "    .dataframe thead tr:only-child th {\n",
       "        text-align: right;\n",
       "    }\n",
       "\n",
       "    .dataframe thead th {\n",
       "        text-align: left;\n",
       "    }\n",
       "\n",
       "    .dataframe tbody tr th {\n",
       "        vertical-align: top;\n",
       "    }\n",
       "</style>\n",
       "<table border=\"1\" class=\"dataframe\">\n",
       "  <thead>\n",
       "    <tr style=\"text-align: right;\">\n",
       "      <th></th>\n",
       "      <th></th>\n",
       "      <th>total_flows_x</th>\n",
       "      <th>total_flows_y</th>\n",
       "    </tr>\n",
       "    <tr>\n",
       "      <th>parent1_1500</th>\n",
       "      <th>parent2_1500</th>\n",
       "      <th></th>\n",
       "      <th></th>\n",
       "    </tr>\n",
       "  </thead>\n",
       "  <tbody>\n",
       "    <tr>\n",
       "      <th rowspan=\"3\" valign=\"top\">410030</th>\n",
       "      <th>266091396</th>\n",
       "      <td>2</td>\n",
       "      <td>6</td>\n",
       "    </tr>\n",
       "    <tr>\n",
       "      <th>1250154088</th>\n",
       "      <td>7</td>\n",
       "      <td>7</td>\n",
       "    </tr>\n",
       "    <tr>\n",
       "      <th>1788704020</th>\n",
       "      <td>1</td>\n",
       "      <td>4</td>\n",
       "    </tr>\n",
       "    <tr>\n",
       "      <th rowspan=\"2\" valign=\"top\">754032</th>\n",
       "      <th>59327488</th>\n",
       "      <td>2028</td>\n",
       "      <td>1939</td>\n",
       "    </tr>\n",
       "    <tr>\n",
       "      <th>222597220</th>\n",
       "      <td>407</td>\n",
       "      <td>535</td>\n",
       "    </tr>\n",
       "  </tbody>\n",
       "</table>\n",
       "</div>"
      ],
      "text/plain": [
       "                           total_flows_x  total_flows_y\n",
       "parent1_1500 parent2_1500                              \n",
       "410030       266091396                 2              6\n",
       "             1250154088                7              7\n",
       "             1788704020                1              4\n",
       "754032       59327488               2028           1939\n",
       "             222597220               407            535"
      ]
     },
     "execution_count": 27,
     "metadata": {},
     "output_type": "execute_result"
    }
   ],
   "source": [
    "df33_1500_jump=df3_1500_jump.groupby([\"parent1_1500\",\"parent2_1500\"]).agg({\"total_flows_x\":\"min\",\"total_flows_y\":\"sum\"})\n",
    "df33_1500_jump.head()"
   ]
  },
  {
   "cell_type": "code",
   "execution_count": 28,
   "metadata": {},
   "outputs": [
    {
     "name": "stdout",
     "output_type": "stream",
     "text": [
      "sse: 649193184619\n"
     ]
    }
   ],
   "source": [
    "d_1500_jump=SSE(df33_1500_jump.total_flows_x,df33_1500_jump.total_flows_y)\n",
    "pretty_print_SSE(d_1500_jump)"
   ]
  },
  {
   "cell_type": "code",
   "execution_count": 29,
   "metadata": {},
   "outputs": [
    {
     "data": {
      "image/png": "[encoded data removed]",
      "text/plain": [
       "<matplotlib.figure.Figure at 0x23608d7e550>"
      ]
     },
     "metadata": {},
     "output_type": "display_data"
    }
   ],
   "source": [
    "sns.jointplot(x='total_flows_x',y='total_flows_y',data=df33_1500_jump,kind='scatter')\n",
    "#plt.xlim([10000,20000])\n",
    "#plt.ylim([10,1000])\n",
    "#,xlim=[0,100],ylim=[0,100]\n",
    "plt.savefig(\"approximate 200-1500_Jump.png\")"
   ]
  },
  {
   "cell_type": "code",
   "execution_count": 30,
   "metadata": {},
   "outputs": [
    {
     "data": {
      "text/plain": [
       "(0.93239216207669462, 0.0)"
      ]
     },
     "execution_count": 30,
     "metadata": {},
     "output_type": "execute_result"
    }
   ],
   "source": [
    "stats.pearsonr(df33_1500_jump.total_flows_y, df33_1500_jump.total_flows_x)"
   ]
  },
  {
   "cell_type": "code",
   "execution_count": 31,
   "metadata": {},
   "outputs": [
    {
     "data": {
      "text/plain": [
       "SpearmanrResult(correlation=0.85192357059854951, pvalue=0.0)"
      ]
     },
     "execution_count": 31,
     "metadata": {},
     "output_type": "execute_result"
    }
   ],
   "source": [
    "stats.spearmanr(df33_1500_jump.total_flows_y, df33_1500_jump.total_flows_x)"
   ]
  },
  {
   "cell_type": "code",
   "execution_count": null,
   "metadata": {
    "collapsed": true
   },
   "outputs": [],
   "source": []
  },
  {
   "cell_type": "markdown",
   "metadata": {
    "collapsed": true
   },
   "source": [
    "# Evaluating createdflow 2000 with the flow2000 which professor gave"
   ]
  },
  {
   "cell_type": "code",
   "execution_count": 32,
   "metadata": {},
   "outputs": [
    {
     "data": {
      "text/html": [
       "<div>\n",
       "<style>\n",
       "    .dataframe thead tr:only-child th {\n",
       "        text-align: right;\n",
       "    }\n",
       "\n",
       "    .dataframe thead th {\n",
       "        text-align: left;\n",
       "    }\n",
       "\n",
       "    .dataframe tbody tr th {\n",
       "        vertical-align: top;\n",
       "    }\n",
       "</style>\n",
       "<table border=\"1\" class=\"dataframe\">\n",
       "  <thead>\n",
       "    <tr style=\"text-align: right;\">\n",
       "      <th></th>\n",
       "      <th>parent1_2000</th>\n",
       "      <th>parent2_2000</th>\n",
       "      <th>total_flows</th>\n",
       "    </tr>\n",
       "  </thead>\n",
       "  <tbody>\n",
       "    <tr>\n",
       "      <th>0</th>\n",
       "      <td>826759449</td>\n",
       "      <td>826759449</td>\n",
       "      <td>1685</td>\n",
       "    </tr>\n",
       "    <tr>\n",
       "      <th>1</th>\n",
       "      <td>826759449</td>\n",
       "      <td>826759449</td>\n",
       "      <td>38</td>\n",
       "    </tr>\n",
       "    <tr>\n",
       "      <th>2</th>\n",
       "      <td>826759449</td>\n",
       "      <td>826759449</td>\n",
       "      <td>1470</td>\n",
       "    </tr>\n",
       "    <tr>\n",
       "      <th>3</th>\n",
       "      <td>826759449</td>\n",
       "      <td>826759449</td>\n",
       "      <td>1598</td>\n",
       "    </tr>\n",
       "    <tr>\n",
       "      <th>4</th>\n",
       "      <td>826759449</td>\n",
       "      <td>826759449</td>\n",
       "      <td>16</td>\n",
       "    </tr>\n",
       "  </tbody>\n",
       "</table>\n",
       "</div>"
      ],
      "text/plain": [
       "   parent1_2000  parent2_2000  total_flows\n",
       "0     826759449     826759449         1685\n",
       "1     826759449     826759449           38\n",
       "2     826759449     826759449         1470\n",
       "3     826759449     826759449         1598\n",
       "4     826759449     826759449           16"
      ]
     },
     "execution_count": 32,
     "metadata": {},
     "output_type": "execute_result"
    }
   ],
   "source": [
    "df1_2000=pd.read_csv(\"createdflow2000.csv\")\n",
    "df1_2000=df1_2000.drop(df1_2000.columns[[ 0]], axis=1)\n",
    "df1_2000.head()"
   ]
  },
  {
   "cell_type": "code",
   "execution_count": 33,
   "metadata": {},
   "outputs": [
    {
     "data": {
      "text/html": [
       "<div>\n",
       "<style>\n",
       "    .dataframe thead tr:only-child th {\n",
       "        text-align: right;\n",
       "    }\n",
       "\n",
       "    .dataframe thead th {\n",
       "        text-align: left;\n",
       "    }\n",
       "\n",
       "    .dataframe tbody tr th {\n",
       "        vertical-align: top;\n",
       "    }\n",
       "</style>\n",
       "<table border=\"1\" class=\"dataframe\">\n",
       "  <thead>\n",
       "    <tr style=\"text-align: right;\">\n",
       "      <th></th>\n",
       "      <th>from_cellid</th>\n",
       "      <th>to_cellid</th>\n",
       "      <th>total_flows</th>\n",
       "    </tr>\n",
       "  </thead>\n",
       "  <tbody>\n",
       "    <tr>\n",
       "      <th>0</th>\n",
       "      <td>445467196</td>\n",
       "      <td>1755583133</td>\n",
       "      <td>119095</td>\n",
       "    </tr>\n",
       "    <tr>\n",
       "      <th>1</th>\n",
       "      <td>445467196</td>\n",
       "      <td>599265282</td>\n",
       "      <td>403037</td>\n",
       "    </tr>\n",
       "    <tr>\n",
       "      <th>2</th>\n",
       "      <td>445467196</td>\n",
       "      <td>2097669802</td>\n",
       "      <td>212750</td>\n",
       "    </tr>\n",
       "    <tr>\n",
       "      <th>3</th>\n",
       "      <td>445467196</td>\n",
       "      <td>1413558430</td>\n",
       "      <td>303113</td>\n",
       "    </tr>\n",
       "    <tr>\n",
       "      <th>4</th>\n",
       "      <td>445467196</td>\n",
       "      <td>271488817</td>\n",
       "      <td>65117</td>\n",
       "    </tr>\n",
       "  </tbody>\n",
       "</table>\n",
       "</div>"
      ],
      "text/plain": [
       "   from_cellid   to_cellid  total_flows\n",
       "0    445467196  1755583133       119095\n",
       "1    445467196   599265282       403037\n",
       "2    445467196  2097669802       212750\n",
       "3    445467196  1413558430       303113\n",
       "4    445467196   271488817        65117"
      ]
     },
     "execution_count": 33,
     "metadata": {},
     "output_type": "execute_result"
    }
   ],
   "source": [
    "df2_2000=pd.read_csv(\"dfflow2000_3.csv\")\n",
    "df2_2000=df2_2000.drop(df2_2000.columns[[ 0]], axis=1)\n",
    "df2_2000.head()"
   ]
  },
  {
   "cell_type": "code",
   "execution_count": 34,
   "metadata": {},
   "outputs": [
    {
     "data": {
      "text/html": [
       "<div>\n",
       "<style>\n",
       "    .dataframe thead tr:only-child th {\n",
       "        text-align: right;\n",
       "    }\n",
       "\n",
       "    .dataframe thead th {\n",
       "        text-align: left;\n",
       "    }\n",
       "\n",
       "    .dataframe tbody tr th {\n",
       "        vertical-align: top;\n",
       "    }\n",
       "</style>\n",
       "<table border=\"1\" class=\"dataframe\">\n",
       "  <thead>\n",
       "    <tr style=\"text-align: right;\">\n",
       "      <th></th>\n",
       "      <th>from_cellid</th>\n",
       "      <th>to_cellid</th>\n",
       "      <th>total_flows_x</th>\n",
       "      <th>parent1_2000</th>\n",
       "      <th>parent2_2000</th>\n",
       "      <th>total_flows_y</th>\n",
       "    </tr>\n",
       "  </thead>\n",
       "  <tbody>\n",
       "    <tr>\n",
       "      <th>0</th>\n",
       "      <td>445467196</td>\n",
       "      <td>1755583133</td>\n",
       "      <td>119095</td>\n",
       "      <td>445467196</td>\n",
       "      <td>1755583133</td>\n",
       "      <td>10606</td>\n",
       "    </tr>\n",
       "    <tr>\n",
       "      <th>1</th>\n",
       "      <td>445467196</td>\n",
       "      <td>1755583133</td>\n",
       "      <td>119095</td>\n",
       "      <td>445467196</td>\n",
       "      <td>1755583133</td>\n",
       "      <td>4613</td>\n",
       "    </tr>\n",
       "    <tr>\n",
       "      <th>2</th>\n",
       "      <td>445467196</td>\n",
       "      <td>1755583133</td>\n",
       "      <td>119095</td>\n",
       "      <td>445467196</td>\n",
       "      <td>1755583133</td>\n",
       "      <td>10654</td>\n",
       "    </tr>\n",
       "    <tr>\n",
       "      <th>3</th>\n",
       "      <td>445467196</td>\n",
       "      <td>1755583133</td>\n",
       "      <td>119095</td>\n",
       "      <td>445467196</td>\n",
       "      <td>1755583133</td>\n",
       "      <td>6358</td>\n",
       "    </tr>\n",
       "    <tr>\n",
       "      <th>4</th>\n",
       "      <td>445467196</td>\n",
       "      <td>1755583133</td>\n",
       "      <td>119095</td>\n",
       "      <td>445467196</td>\n",
       "      <td>1755583133</td>\n",
       "      <td>15008</td>\n",
       "    </tr>\n",
       "  </tbody>\n",
       "</table>\n",
       "</div>"
      ],
      "text/plain": [
       "   from_cellid   to_cellid  total_flows_x  parent1_2000  parent2_2000  \\\n",
       "0    445467196  1755583133         119095     445467196    1755583133   \n",
       "1    445467196  1755583133         119095     445467196    1755583133   \n",
       "2    445467196  1755583133         119095     445467196    1755583133   \n",
       "3    445467196  1755583133         119095     445467196    1755583133   \n",
       "4    445467196  1755583133         119095     445467196    1755583133   \n",
       "\n",
       "   total_flows_y  \n",
       "0          10606  \n",
       "1           4613  \n",
       "2          10654  \n",
       "3           6358  \n",
       "4          15008  "
      ]
     },
     "execution_count": 34,
     "metadata": {},
     "output_type": "execute_result"
    }
   ],
   "source": [
    "df3_2000=df2_2000.merge(df1_2000,left_on=[\"from_cellid\",\"to_cellid\"],right_on=[\"parent1_2000\",\"parent2_2000\"])\n",
    "df3_2000.head()"
   ]
  },
  {
   "cell_type": "code",
   "execution_count": 35,
   "metadata": {},
   "outputs": [
    {
     "data": {
      "text/html": [
       "<div>\n",
       "<style>\n",
       "    .dataframe thead tr:only-child th {\n",
       "        text-align: right;\n",
       "    }\n",
       "\n",
       "    .dataframe thead th {\n",
       "        text-align: left;\n",
       "    }\n",
       "\n",
       "    .dataframe tbody tr th {\n",
       "        vertical-align: top;\n",
       "    }\n",
       "</style>\n",
       "<table border=\"1\" class=\"dataframe\">\n",
       "  <thead>\n",
       "    <tr style=\"text-align: right;\">\n",
       "      <th></th>\n",
       "      <th></th>\n",
       "      <th>total_flows_x</th>\n",
       "      <th>total_flows_y</th>\n",
       "    </tr>\n",
       "    <tr>\n",
       "      <th>parent1_2000</th>\n",
       "      <th>parent2_2000</th>\n",
       "      <th></th>\n",
       "      <th></th>\n",
       "    </tr>\n",
       "  </thead>\n",
       "  <tbody>\n",
       "    <tr>\n",
       "      <th rowspan=\"3\" valign=\"top\">201098</th>\n",
       "      <th>739765175</th>\n",
       "      <td>366</td>\n",
       "      <td>293</td>\n",
       "    </tr>\n",
       "    <tr>\n",
       "      <th>1338314734</th>\n",
       "      <td>8</td>\n",
       "      <td>6</td>\n",
       "    </tr>\n",
       "    <tr>\n",
       "      <th>1393739907</th>\n",
       "      <td>416</td>\n",
       "      <td>324</td>\n",
       "    </tr>\n",
       "    <tr>\n",
       "      <th rowspan=\"2\" valign=\"top\">201451</th>\n",
       "      <th>420110196</th>\n",
       "      <td>48</td>\n",
       "      <td>75</td>\n",
       "    </tr>\n",
       "    <tr>\n",
       "      <th>647139599</th>\n",
       "      <td>50</td>\n",
       "      <td>16</td>\n",
       "    </tr>\n",
       "  </tbody>\n",
       "</table>\n",
       "</div>"
      ],
      "text/plain": [
       "                           total_flows_x  total_flows_y\n",
       "parent1_2000 parent2_2000                              \n",
       "201098       739765175               366            293\n",
       "             1338314734                8              6\n",
       "             1393739907              416            324\n",
       "201451       420110196                48             75\n",
       "             647139599                50             16"
      ]
     },
     "execution_count": 35,
     "metadata": {},
     "output_type": "execute_result"
    }
   ],
   "source": [
    "df33_2000=df3_2000.groupby([\"parent1_2000\",\"parent2_2000\"]).agg({\"total_flows_x\":\"min\",\"total_flows_y\":\"sum\"})\n",
    "df33_2000.head()"
   ]
  },
  {
   "cell_type": "code",
   "execution_count": 36,
   "metadata": {},
   "outputs": [
    {
     "data": {
      "text/plain": [
       "(19246, 2)"
      ]
     },
     "execution_count": 36,
     "metadata": {},
     "output_type": "execute_result"
    }
   ],
   "source": [
    "df33_2000.shape"
   ]
  },
  {
   "cell_type": "code",
   "execution_count": 37,
   "metadata": {},
   "outputs": [
    {
     "name": "stdout",
     "output_type": "stream",
     "text": [
      "sse: 789509162520\n"
     ]
    }
   ],
   "source": [
    "d_2000=SSE(df33_2000.total_flows_x,df33_2000.total_flows_y)\n",
    "pretty_print_SSE(d_2000)"
   ]
  },
  {
   "cell_type": "code",
   "execution_count": 38,
   "metadata": {},
   "outputs": [
    {
     "data": {
      "image/png": "[encoded data removed]",
      "text/plain": [
       "<matplotlib.figure.Figure at 0x2360a1b8400>"
      ]
     },
     "metadata": {},
     "output_type": "display_data"
    }
   ],
   "source": [
    "sns.jointplot(x='total_flows_x',y='total_flows_y',data=df33_2000,kind='scatter')\n",
    "plt.savefig(\"approximate 1500-2000_step.png\")"
   ]
  },
  {
   "cell_type": "code",
   "execution_count": 39,
   "metadata": {},
   "outputs": [
    {
     "data": {
      "text/plain": [
       "(0.87336295269380193, 0.0)"
      ]
     },
     "execution_count": 39,
     "metadata": {},
     "output_type": "execute_result"
    }
   ],
   "source": [
    "stats.pearsonr(df33_2000.total_flows_y, df33_2000.total_flows_x)"
   ]
  },
  {
   "cell_type": "code",
   "execution_count": 40,
   "metadata": {},
   "outputs": [
    {
     "data": {
      "text/plain": [
       "SpearmanrResult(correlation=0.83654140498675533, pvalue=0.0)"
      ]
     },
     "execution_count": 40,
     "metadata": {},
     "output_type": "execute_result"
    }
   ],
   "source": [
    "stats.spearmanr(df33_2000.total_flows_y, df33_2000.total_flows_x)"
   ]
  },
  {
   "cell_type": "code",
   "execution_count": null,
   "metadata": {
    "collapsed": true
   },
   "outputs": [],
   "source": []
  },
  {
   "cell_type": "markdown",
   "metadata": {
    "collapsed": true
   },
   "source": [
    "# Evaluating createdflow2000_jump with dfflow2000 ,which professor gave\n"
   ]
  },
  {
   "cell_type": "code",
   "execution_count": 41,
   "metadata": {},
   "outputs": [
    {
     "data": {
      "text/html": [
       "<div>\n",
       "<style>\n",
       "    .dataframe thead tr:only-child th {\n",
       "        text-align: right;\n",
       "    }\n",
       "\n",
       "    .dataframe thead th {\n",
       "        text-align: left;\n",
       "    }\n",
       "\n",
       "    .dataframe tbody tr th {\n",
       "        vertical-align: top;\n",
       "    }\n",
       "</style>\n",
       "<table border=\"1\" class=\"dataframe\">\n",
       "  <thead>\n",
       "    <tr style=\"text-align: right;\">\n",
       "      <th></th>\n",
       "      <th>parent1_2000</th>\n",
       "      <th>parent2_2000</th>\n",
       "      <th>total_flows</th>\n",
       "    </tr>\n",
       "  </thead>\n",
       "  <tbody>\n",
       "    <tr>\n",
       "      <th>0</th>\n",
       "      <td>826759449</td>\n",
       "      <td>826759449</td>\n",
       "      <td>1685</td>\n",
       "    </tr>\n",
       "    <tr>\n",
       "      <th>1</th>\n",
       "      <td>826759449</td>\n",
       "      <td>826759449</td>\n",
       "      <td>1567</td>\n",
       "    </tr>\n",
       "    <tr>\n",
       "      <th>2</th>\n",
       "      <td>826759449</td>\n",
       "      <td>826759449</td>\n",
       "      <td>38</td>\n",
       "    </tr>\n",
       "    <tr>\n",
       "      <th>3</th>\n",
       "      <td>826759449</td>\n",
       "      <td>826759449</td>\n",
       "      <td>6</td>\n",
       "    </tr>\n",
       "    <tr>\n",
       "      <th>4</th>\n",
       "      <td>826759449</td>\n",
       "      <td>826759449</td>\n",
       "      <td>2</td>\n",
       "    </tr>\n",
       "  </tbody>\n",
       "</table>\n",
       "</div>"
      ],
      "text/plain": [
       "   parent1_2000  parent2_2000  total_flows\n",
       "0     826759449     826759449         1685\n",
       "1     826759449     826759449         1567\n",
       "2     826759449     826759449           38\n",
       "3     826759449     826759449            6\n",
       "4     826759449     826759449            2"
      ]
     },
     "execution_count": 41,
     "metadata": {},
     "output_type": "execute_result"
    }
   ],
   "source": [
    "df1_2000_jump=pd.read_csv(\"createdflow2000_jump.csv\")\n",
    "df1_2000_jump=df1_2000_jump.drop(df1_2000_jump.columns[[ 0]], axis=1)\n",
    "df1_2000_jump.head()"
   ]
  },
  {
   "cell_type": "code",
   "execution_count": 42,
   "metadata": {},
   "outputs": [
    {
     "data": {
      "text/html": [
       "<div>\n",
       "<style>\n",
       "    .dataframe thead tr:only-child th {\n",
       "        text-align: right;\n",
       "    }\n",
       "\n",
       "    .dataframe thead th {\n",
       "        text-align: left;\n",
       "    }\n",
       "\n",
       "    .dataframe tbody tr th {\n",
       "        vertical-align: top;\n",
       "    }\n",
       "</style>\n",
       "<table border=\"1\" class=\"dataframe\">\n",
       "  <thead>\n",
       "    <tr style=\"text-align: right;\">\n",
       "      <th></th>\n",
       "      <th>from_cellid</th>\n",
       "      <th>to_cellid</th>\n",
       "      <th>total_flows</th>\n",
       "    </tr>\n",
       "  </thead>\n",
       "  <tbody>\n",
       "    <tr>\n",
       "      <th>0</th>\n",
       "      <td>445467196</td>\n",
       "      <td>1755583133</td>\n",
       "      <td>119095</td>\n",
       "    </tr>\n",
       "    <tr>\n",
       "      <th>1</th>\n",
       "      <td>445467196</td>\n",
       "      <td>599265282</td>\n",
       "      <td>403037</td>\n",
       "    </tr>\n",
       "    <tr>\n",
       "      <th>2</th>\n",
       "      <td>445467196</td>\n",
       "      <td>2097669802</td>\n",
       "      <td>212750</td>\n",
       "    </tr>\n",
       "    <tr>\n",
       "      <th>3</th>\n",
       "      <td>445467196</td>\n",
       "      <td>1413558430</td>\n",
       "      <td>303113</td>\n",
       "    </tr>\n",
       "    <tr>\n",
       "      <th>4</th>\n",
       "      <td>445467196</td>\n",
       "      <td>271488817</td>\n",
       "      <td>65117</td>\n",
       "    </tr>\n",
       "  </tbody>\n",
       "</table>\n",
       "</div>"
      ],
      "text/plain": [
       "   from_cellid   to_cellid  total_flows\n",
       "0    445467196  1755583133       119095\n",
       "1    445467196   599265282       403037\n",
       "2    445467196  2097669802       212750\n",
       "3    445467196  1413558430       303113\n",
       "4    445467196   271488817        65117"
      ]
     },
     "execution_count": 42,
     "metadata": {},
     "output_type": "execute_result"
    }
   ],
   "source": [
    "df2_2000=pd.read_csv(\"dfflow2000_3.csv\")  # inserting the dfflow1500 which professor gave me\n",
    "df2_2000=df2_2000.drop(df2_2000.columns[[ 0]], axis=1)\n",
    "df2_2000.head()"
   ]
  },
  {
   "cell_type": "code",
   "execution_count": 43,
   "metadata": {},
   "outputs": [
    {
     "data": {
      "text/html": [
       "<div>\n",
       "<style>\n",
       "    .dataframe thead tr:only-child th {\n",
       "        text-align: right;\n",
       "    }\n",
       "\n",
       "    .dataframe thead th {\n",
       "        text-align: left;\n",
       "    }\n",
       "\n",
       "    .dataframe tbody tr th {\n",
       "        vertical-align: top;\n",
       "    }\n",
       "</style>\n",
       "<table border=\"1\" class=\"dataframe\">\n",
       "  <thead>\n",
       "    <tr style=\"text-align: right;\">\n",
       "      <th></th>\n",
       "      <th>from_cellid</th>\n",
       "      <th>to_cellid</th>\n",
       "      <th>total_flows_x</th>\n",
       "      <th>parent1_2000</th>\n",
       "      <th>parent2_2000</th>\n",
       "      <th>total_flows_y</th>\n",
       "    </tr>\n",
       "  </thead>\n",
       "  <tbody>\n",
       "    <tr>\n",
       "      <th>0</th>\n",
       "      <td>445467196</td>\n",
       "      <td>1755583133</td>\n",
       "      <td>119095</td>\n",
       "      <td>445467196</td>\n",
       "      <td>1755583133</td>\n",
       "      <td>22479</td>\n",
       "    </tr>\n",
       "    <tr>\n",
       "      <th>1</th>\n",
       "      <td>445467196</td>\n",
       "      <td>1755583133</td>\n",
       "      <td>119095</td>\n",
       "      <td>445467196</td>\n",
       "      <td>1755583133</td>\n",
       "      <td>6358</td>\n",
       "    </tr>\n",
       "    <tr>\n",
       "      <th>2</th>\n",
       "      <td>445467196</td>\n",
       "      <td>1755583133</td>\n",
       "      <td>119095</td>\n",
       "      <td>445467196</td>\n",
       "      <td>1755583133</td>\n",
       "      <td>4064</td>\n",
       "    </tr>\n",
       "    <tr>\n",
       "      <th>3</th>\n",
       "      <td>445467196</td>\n",
       "      <td>1755583133</td>\n",
       "      <td>119095</td>\n",
       "      <td>445467196</td>\n",
       "      <td>1755583133</td>\n",
       "      <td>4936</td>\n",
       "    </tr>\n",
       "    <tr>\n",
       "      <th>4</th>\n",
       "      <td>445467196</td>\n",
       "      <td>1755583133</td>\n",
       "      <td>119095</td>\n",
       "      <td>445467196</td>\n",
       "      <td>1755583133</td>\n",
       "      <td>15008</td>\n",
       "    </tr>\n",
       "  </tbody>\n",
       "</table>\n",
       "</div>"
      ],
      "text/plain": [
       "   from_cellid   to_cellid  total_flows_x  parent1_2000  parent2_2000  \\\n",
       "0    445467196  1755583133         119095     445467196    1755583133   \n",
       "1    445467196  1755583133         119095     445467196    1755583133   \n",
       "2    445467196  1755583133         119095     445467196    1755583133   \n",
       "3    445467196  1755583133         119095     445467196    1755583133   \n",
       "4    445467196  1755583133         119095     445467196    1755583133   \n",
       "\n",
       "   total_flows_y  \n",
       "0          22479  \n",
       "1           6358  \n",
       "2           4064  \n",
       "3           4936  \n",
       "4          15008  "
      ]
     },
     "execution_count": 43,
     "metadata": {},
     "output_type": "execute_result"
    }
   ],
   "source": [
    "df3_2000_jump=df2_2000.merge(df1_2000_jump,left_on=[\"from_cellid\",\"to_cellid\"],right_on=[\"parent1_2000\",\"parent2_2000\"])\n",
    "df3_2000_jump.head()"
   ]
  },
  {
   "cell_type": "code",
   "execution_count": 44,
   "metadata": {},
   "outputs": [
    {
     "data": {
      "text/html": [
       "<div>\n",
       "<style>\n",
       "    .dataframe thead tr:only-child th {\n",
       "        text-align: right;\n",
       "    }\n",
       "\n",
       "    .dataframe thead th {\n",
       "        text-align: left;\n",
       "    }\n",
       "\n",
       "    .dataframe tbody tr th {\n",
       "        vertical-align: top;\n",
       "    }\n",
       "</style>\n",
       "<table border=\"1\" class=\"dataframe\">\n",
       "  <thead>\n",
       "    <tr style=\"text-align: right;\">\n",
       "      <th></th>\n",
       "      <th></th>\n",
       "      <th>total_flows_x</th>\n",
       "      <th>total_flows_y</th>\n",
       "    </tr>\n",
       "    <tr>\n",
       "      <th>parent1_2000</th>\n",
       "      <th>parent2_2000</th>\n",
       "      <th></th>\n",
       "      <th></th>\n",
       "    </tr>\n",
       "  </thead>\n",
       "  <tbody>\n",
       "    <tr>\n",
       "      <th rowspan=\"3\" valign=\"top\">201098</th>\n",
       "      <th>739765175</th>\n",
       "      <td>366</td>\n",
       "      <td>293</td>\n",
       "    </tr>\n",
       "    <tr>\n",
       "      <th>1338314734</th>\n",
       "      <td>8</td>\n",
       "      <td>5</td>\n",
       "    </tr>\n",
       "    <tr>\n",
       "      <th>1393739907</th>\n",
       "      <td>416</td>\n",
       "      <td>323</td>\n",
       "    </tr>\n",
       "    <tr>\n",
       "      <th rowspan=\"2\" valign=\"top\">201451</th>\n",
       "      <th>420110196</th>\n",
       "      <td>48</td>\n",
       "      <td>49</td>\n",
       "    </tr>\n",
       "    <tr>\n",
       "      <th>647139599</th>\n",
       "      <td>50</td>\n",
       "      <td>50</td>\n",
       "    </tr>\n",
       "  </tbody>\n",
       "</table>\n",
       "</div>"
      ],
      "text/plain": [
       "                           total_flows_x  total_flows_y\n",
       "parent1_2000 parent2_2000                              \n",
       "201098       739765175               366            293\n",
       "             1338314734                8              5\n",
       "             1393739907              416            323\n",
       "201451       420110196                48             49\n",
       "             647139599                50             50"
      ]
     },
     "execution_count": 44,
     "metadata": {},
     "output_type": "execute_result"
    }
   ],
   "source": [
    "df33_2000_jump=df3_2000_jump.groupby([\"parent1_2000\",\"parent2_2000\"]).agg({\"total_flows_x\":\"min\",\"total_flows_y\":\"sum\"})\n",
    "df33_2000_jump.head()"
   ]
  },
  {
   "cell_type": "code",
   "execution_count": 45,
   "metadata": {},
   "outputs": [
    {
     "name": "stdout",
     "output_type": "stream",
     "text": [
      "sse: 673794066536\n"
     ]
    }
   ],
   "source": [
    "d_2000_jump=SSE(df33_2000_jump.total_flows_x,df33_2000_jump.total_flows_y)\n",
    "pretty_print_SSE(d_2000_jump)"
   ]
  },
  {
   "cell_type": "code",
   "execution_count": 46,
   "metadata": {},
   "outputs": [
    {
     "data": {
      "image/png": "[encoded data removed]",
      "text/plain": [
       "<matplotlib.figure.Figure at 0x2360ab399b0>"
      ]
     },
     "metadata": {},
     "output_type": "display_data"
    }
   ],
   "source": [
    "sns.jointplot(x='total_flows_x',y='total_flows_y',data=df33_2000_jump,kind='scatter')\n",
    "#plt.xlim([10000,20000])\n",
    "#plt.ylim([10,1000])\n",
    "#,xlim=[0,100],ylim=[0,100]\n",
    "plt.savefig(\"approximate 200-2000_Jump.png\")"
   ]
  },
  {
   "cell_type": "code",
   "execution_count": 47,
   "metadata": {},
   "outputs": [
    {
     "data": {
      "text/plain": [
       "(0.89788249676463316, 0.0)"
      ]
     },
     "execution_count": 47,
     "metadata": {},
     "output_type": "execute_result"
    }
   ],
   "source": [
    "stats.pearsonr(df33_2000_jump.total_flows_y, df33_2000_jump.total_flows_x)"
   ]
  },
  {
   "cell_type": "code",
   "execution_count": 48,
   "metadata": {},
   "outputs": [
    {
     "data": {
      "text/plain": [
       "SpearmanrResult(correlation=0.85283993130561875, pvalue=0.0)"
      ]
     },
     "execution_count": 48,
     "metadata": {},
     "output_type": "execute_result"
    }
   ],
   "source": [
    "stats.spearmanr(df33_2000_jump.total_flows_y, df33_2000_jump.total_flows_x)"
   ]
  },
  {
   "cell_type": "code",
   "execution_count": null,
   "metadata": {
    "collapsed": true
   },
   "outputs": [],
   "source": []
  },
  {
   "cell_type": "markdown",
   "metadata": {
    "collapsed": true
   },
   "source": [
    "# Evaluating createdflow 2500 with the flow2500 which professor gave"
   ]
  },
  {
   "cell_type": "code",
   "execution_count": 49,
   "metadata": {},
   "outputs": [
    {
     "data": {
      "text/html": [
       "<div>\n",
       "<style>\n",
       "    .dataframe thead tr:only-child th {\n",
       "        text-align: right;\n",
       "    }\n",
       "\n",
       "    .dataframe thead th {\n",
       "        text-align: left;\n",
       "    }\n",
       "\n",
       "    .dataframe tbody tr th {\n",
       "        vertical-align: top;\n",
       "    }\n",
       "</style>\n",
       "<table border=\"1\" class=\"dataframe\">\n",
       "  <thead>\n",
       "    <tr style=\"text-align: right;\">\n",
       "      <th></th>\n",
       "      <th>parent1_2500</th>\n",
       "      <th>parent2_2500</th>\n",
       "      <th>total_flows</th>\n",
       "    </tr>\n",
       "  </thead>\n",
       "  <tbody>\n",
       "    <tr>\n",
       "      <th>0</th>\n",
       "      <td>623837370</td>\n",
       "      <td>623837370</td>\n",
       "      <td>1685</td>\n",
       "    </tr>\n",
       "    <tr>\n",
       "      <th>1</th>\n",
       "      <td>623837370</td>\n",
       "      <td>623837370</td>\n",
       "      <td>38</td>\n",
       "    </tr>\n",
       "    <tr>\n",
       "      <th>2</th>\n",
       "      <td>623837370</td>\n",
       "      <td>623837370</td>\n",
       "      <td>1470</td>\n",
       "    </tr>\n",
       "    <tr>\n",
       "      <th>3</th>\n",
       "      <td>623837370</td>\n",
       "      <td>623837370</td>\n",
       "      <td>1598</td>\n",
       "    </tr>\n",
       "    <tr>\n",
       "      <th>4</th>\n",
       "      <td>623837370</td>\n",
       "      <td>623837370</td>\n",
       "      <td>16</td>\n",
       "    </tr>\n",
       "  </tbody>\n",
       "</table>\n",
       "</div>"
      ],
      "text/plain": [
       "   parent1_2500  parent2_2500  total_flows\n",
       "0     623837370     623837370         1685\n",
       "1     623837370     623837370           38\n",
       "2     623837370     623837370         1470\n",
       "3     623837370     623837370         1598\n",
       "4     623837370     623837370           16"
      ]
     },
     "execution_count": 49,
     "metadata": {},
     "output_type": "execute_result"
    }
   ],
   "source": [
    "df1_2500=pd.read_csv(\"createdflow2500.csv\")\n",
    "df1_2500=df1_2500.drop(df1_2500.columns[[ 0]], axis=1)\n",
    "df1_2500.head()"
   ]
  },
  {
   "cell_type": "code",
   "execution_count": 50,
   "metadata": {},
   "outputs": [
    {
     "data": {
      "text/html": [
       "<div>\n",
       "<style>\n",
       "    .dataframe thead tr:only-child th {\n",
       "        text-align: right;\n",
       "    }\n",
       "\n",
       "    .dataframe thead th {\n",
       "        text-align: left;\n",
       "    }\n",
       "\n",
       "    .dataframe tbody tr th {\n",
       "        vertical-align: top;\n",
       "    }\n",
       "</style>\n",
       "<table border=\"1\" class=\"dataframe\">\n",
       "  <thead>\n",
       "    <tr style=\"text-align: right;\">\n",
       "      <th></th>\n",
       "      <th>from_cellid</th>\n",
       "      <th>to_cellid</th>\n",
       "      <th>total_flows</th>\n",
       "    </tr>\n",
       "  </thead>\n",
       "  <tbody>\n",
       "    <tr>\n",
       "      <th>0</th>\n",
       "      <td>623837370</td>\n",
       "      <td>1721207829</td>\n",
       "      <td>7831</td>\n",
       "    </tr>\n",
       "    <tr>\n",
       "      <th>1</th>\n",
       "      <td>623837370</td>\n",
       "      <td>2090535958</td>\n",
       "      <td>4312</td>\n",
       "    </tr>\n",
       "    <tr>\n",
       "      <th>2</th>\n",
       "      <td>623837370</td>\n",
       "      <td>849515361</td>\n",
       "      <td>2003</td>\n",
       "    </tr>\n",
       "    <tr>\n",
       "      <th>3</th>\n",
       "      <td>623837370</td>\n",
       "      <td>1519190990</td>\n",
       "      <td>5148</td>\n",
       "    </tr>\n",
       "    <tr>\n",
       "      <th>4</th>\n",
       "      <td>623837370</td>\n",
       "      <td>148222723</td>\n",
       "      <td>57</td>\n",
       "    </tr>\n",
       "  </tbody>\n",
       "</table>\n",
       "</div>"
      ],
      "text/plain": [
       "   from_cellid   to_cellid  total_flows\n",
       "0    623837370  1721207829         7831\n",
       "1    623837370  2090535958         4312\n",
       "2    623837370   849515361         2003\n",
       "3    623837370  1519190990         5148\n",
       "4    623837370   148222723           57"
      ]
     },
     "execution_count": 50,
     "metadata": {},
     "output_type": "execute_result"
    }
   ],
   "source": [
    "df2_2500=pd.read_csv(\"dfflow2500_3.csv\")\n",
    "df2_2500=df2_2500.drop(df2_2500.columns[[ 0]], axis=1)\n",
    "df2_2500.head()"
   ]
  },
  {
   "cell_type": "code",
   "execution_count": 51,
   "metadata": {},
   "outputs": [
    {
     "data": {
      "text/html": [
       "<div>\n",
       "<style>\n",
       "    .dataframe thead tr:only-child th {\n",
       "        text-align: right;\n",
       "    }\n",
       "\n",
       "    .dataframe thead th {\n",
       "        text-align: left;\n",
       "    }\n",
       "\n",
       "    .dataframe tbody tr th {\n",
       "        vertical-align: top;\n",
       "    }\n",
       "</style>\n",
       "<table border=\"1\" class=\"dataframe\">\n",
       "  <thead>\n",
       "    <tr style=\"text-align: right;\">\n",
       "      <th></th>\n",
       "      <th>from_cellid</th>\n",
       "      <th>to_cellid</th>\n",
       "      <th>total_flows_x</th>\n",
       "      <th>parent1_2500</th>\n",
       "      <th>parent2_2500</th>\n",
       "      <th>total_flows_y</th>\n",
       "    </tr>\n",
       "  </thead>\n",
       "  <tbody>\n",
       "    <tr>\n",
       "      <th>0</th>\n",
       "      <td>623837370</td>\n",
       "      <td>1721207829</td>\n",
       "      <td>7831</td>\n",
       "      <td>623837370</td>\n",
       "      <td>1721207829</td>\n",
       "      <td>1723</td>\n",
       "    </tr>\n",
       "    <tr>\n",
       "      <th>1</th>\n",
       "      <td>623837370</td>\n",
       "      <td>1721207829</td>\n",
       "      <td>7831</td>\n",
       "      <td>623837370</td>\n",
       "      <td>1721207829</td>\n",
       "      <td>47</td>\n",
       "    </tr>\n",
       "    <tr>\n",
       "      <th>2</th>\n",
       "      <td>623837370</td>\n",
       "      <td>1721207829</td>\n",
       "      <td>7831</td>\n",
       "      <td>623837370</td>\n",
       "      <td>1721207829</td>\n",
       "      <td>12</td>\n",
       "    </tr>\n",
       "    <tr>\n",
       "      <th>3</th>\n",
       "      <td>623837370</td>\n",
       "      <td>1721207829</td>\n",
       "      <td>7831</td>\n",
       "      <td>623837370</td>\n",
       "      <td>1721207829</td>\n",
       "      <td>16</td>\n",
       "    </tr>\n",
       "    <tr>\n",
       "      <th>4</th>\n",
       "      <td>623837370</td>\n",
       "      <td>1721207829</td>\n",
       "      <td>7831</td>\n",
       "      <td>623837370</td>\n",
       "      <td>1721207829</td>\n",
       "      <td>22</td>\n",
       "    </tr>\n",
       "  </tbody>\n",
       "</table>\n",
       "</div>"
      ],
      "text/plain": [
       "   from_cellid   to_cellid  total_flows_x  parent1_2500  parent2_2500  \\\n",
       "0    623837370  1721207829           7831     623837370    1721207829   \n",
       "1    623837370  1721207829           7831     623837370    1721207829   \n",
       "2    623837370  1721207829           7831     623837370    1721207829   \n",
       "3    623837370  1721207829           7831     623837370    1721207829   \n",
       "4    623837370  1721207829           7831     623837370    1721207829   \n",
       "\n",
       "   total_flows_y  \n",
       "0           1723  \n",
       "1             47  \n",
       "2             12  \n",
       "3             16  \n",
       "4             22  "
      ]
     },
     "execution_count": 51,
     "metadata": {},
     "output_type": "execute_result"
    }
   ],
   "source": [
    "df3_2500=df2_2500.merge(df1_2500,left_on=[\"from_cellid\",\"to_cellid\"],right_on=[\"parent1_2500\",\"parent2_2500\"])\n",
    "df3_2500.head()"
   ]
  },
  {
   "cell_type": "code",
   "execution_count": 52,
   "metadata": {},
   "outputs": [
    {
     "data": {
      "text/html": [
       "<div>\n",
       "<style>\n",
       "    .dataframe thead tr:only-child th {\n",
       "        text-align: right;\n",
       "    }\n",
       "\n",
       "    .dataframe thead th {\n",
       "        text-align: left;\n",
       "    }\n",
       "\n",
       "    .dataframe tbody tr th {\n",
       "        vertical-align: top;\n",
       "    }\n",
       "</style>\n",
       "<table border=\"1\" class=\"dataframe\">\n",
       "  <thead>\n",
       "    <tr style=\"text-align: right;\">\n",
       "      <th></th>\n",
       "      <th></th>\n",
       "      <th>total_flows_x</th>\n",
       "      <th>total_flows_y</th>\n",
       "    </tr>\n",
       "    <tr>\n",
       "      <th>parent1_2500</th>\n",
       "      <th>parent2_2500</th>\n",
       "      <th></th>\n",
       "      <th></th>\n",
       "    </tr>\n",
       "  </thead>\n",
       "  <tbody>\n",
       "    <tr>\n",
       "      <th rowspan=\"5\" valign=\"top\">461371</th>\n",
       "      <th>6518397</th>\n",
       "      <td>124</td>\n",
       "      <td>168</td>\n",
       "    </tr>\n",
       "    <tr>\n",
       "      <th>118130260</th>\n",
       "      <td>109</td>\n",
       "      <td>287</td>\n",
       "    </tr>\n",
       "    <tr>\n",
       "      <th>227666119</th>\n",
       "      <td>43</td>\n",
       "      <td>103</td>\n",
       "    </tr>\n",
       "    <tr>\n",
       "      <th>1609638725</th>\n",
       "      <td>2</td>\n",
       "      <td>10</td>\n",
       "    </tr>\n",
       "    <tr>\n",
       "      <th>1653316341</th>\n",
       "      <td>336</td>\n",
       "      <td>250</td>\n",
       "    </tr>\n",
       "  </tbody>\n",
       "</table>\n",
       "</div>"
      ],
      "text/plain": [
       "                           total_flows_x  total_flows_y\n",
       "parent1_2500 parent2_2500                              \n",
       "461371       6518397                 124            168\n",
       "             118130260               109            287\n",
       "             227666119                43            103\n",
       "             1609638725                2             10\n",
       "             1653316341              336            250"
      ]
     },
     "execution_count": 52,
     "metadata": {},
     "output_type": "execute_result"
    }
   ],
   "source": [
    "df33_2500=df3_2500.groupby([\"parent1_2500\",\"parent2_2500\"]).agg({\"total_flows_x\":\"min\",\"total_flows_y\":\"sum\"})\n",
    "df33_2500.head()"
   ]
  },
  {
   "cell_type": "code",
   "execution_count": 53,
   "metadata": {},
   "outputs": [
    {
     "data": {
      "text/plain": [
       "(12669, 2)"
      ]
     },
     "execution_count": 53,
     "metadata": {},
     "output_type": "execute_result"
    }
   ],
   "source": [
    "df33_2500.shape"
   ]
  },
  {
   "cell_type": "code",
   "execution_count": 54,
   "metadata": {},
   "outputs": [
    {
     "name": "stdout",
     "output_type": "stream",
     "text": [
      "sse: 783935719379\n"
     ]
    }
   ],
   "source": [
    "d_2500=SSE(df33_2500.total_flows_x,df33_2500.total_flows_y)\n",
    "pretty_print_SSE(d_2500)"
   ]
  },
  {
   "cell_type": "code",
   "execution_count": 55,
   "metadata": {},
   "outputs": [
    {
     "data": {
      "image/png": "[encoded data removed]",
      "text/plain": [
       "<matplotlib.figure.Figure at 0x2360ae27588>"
      ]
     },
     "metadata": {},
     "output_type": "display_data"
    }
   ],
   "source": [
    "sns.jointplot(x='total_flows_x',y='total_flows_y',data=df33_2500,kind='scatter')\n",
    "plt.savefig(\"approximate 2000-2500_Step.png\")"
   ]
  },
  {
   "cell_type": "code",
   "execution_count": 56,
   "metadata": {},
   "outputs": [
    {
     "data": {
      "text/plain": [
       "(0.88809241914655701, 0.0)"
      ]
     },
     "execution_count": 56,
     "metadata": {},
     "output_type": "execute_result"
    }
   ],
   "source": [
    "stats.pearsonr(df33_2500.total_flows_y, df33_2500.total_flows_x)"
   ]
  },
  {
   "cell_type": "code",
   "execution_count": 57,
   "metadata": {},
   "outputs": [
    {
     "data": {
      "text/plain": [
       "SpearmanrResult(correlation=0.80683091771198456, pvalue=0.0)"
      ]
     },
     "execution_count": 57,
     "metadata": {},
     "output_type": "execute_result"
    }
   ],
   "source": [
    "stats.spearmanr(df33_2500.total_flows_y, df33_2500.total_flows_x)"
   ]
  },
  {
   "cell_type": "code",
   "execution_count": null,
   "metadata": {
    "collapsed": true
   },
   "outputs": [],
   "source": []
  },
  {
   "cell_type": "markdown",
   "metadata": {
    "collapsed": true
   },
   "source": [
    " # Evaluating createdflow2500_jump with dfflow2500 ,which professor gave"
   ]
  },
  {
   "cell_type": "code",
   "execution_count": 58,
   "metadata": {},
   "outputs": [
    {
     "data": {
      "text/html": [
       "<div>\n",
       "<style>\n",
       "    .dataframe thead tr:only-child th {\n",
       "        text-align: right;\n",
       "    }\n",
       "\n",
       "    .dataframe thead th {\n",
       "        text-align: left;\n",
       "    }\n",
       "\n",
       "    .dataframe tbody tr th {\n",
       "        vertical-align: top;\n",
       "    }\n",
       "</style>\n",
       "<table border=\"1\" class=\"dataframe\">\n",
       "  <thead>\n",
       "    <tr style=\"text-align: right;\">\n",
       "      <th></th>\n",
       "      <th>parent1_2500</th>\n",
       "      <th>parent2_2500</th>\n",
       "      <th>total_flows</th>\n",
       "    </tr>\n",
       "  </thead>\n",
       "  <tbody>\n",
       "    <tr>\n",
       "      <th>0</th>\n",
       "      <td>623837370</td>\n",
       "      <td>623837370</td>\n",
       "      <td>1685</td>\n",
       "    </tr>\n",
       "    <tr>\n",
       "      <th>1</th>\n",
       "      <td>623837370</td>\n",
       "      <td>623837370</td>\n",
       "      <td>1567</td>\n",
       "    </tr>\n",
       "    <tr>\n",
       "      <th>2</th>\n",
       "      <td>623837370</td>\n",
       "      <td>623837370</td>\n",
       "      <td>38</td>\n",
       "    </tr>\n",
       "    <tr>\n",
       "      <th>3</th>\n",
       "      <td>623837370</td>\n",
       "      <td>623837370</td>\n",
       "      <td>6</td>\n",
       "    </tr>\n",
       "    <tr>\n",
       "      <th>4</th>\n",
       "      <td>623837370</td>\n",
       "      <td>623837370</td>\n",
       "      <td>2</td>\n",
       "    </tr>\n",
       "  </tbody>\n",
       "</table>\n",
       "</div>"
      ],
      "text/plain": [
       "   parent1_2500  parent2_2500  total_flows\n",
       "0     623837370     623837370         1685\n",
       "1     623837370     623837370         1567\n",
       "2     623837370     623837370           38\n",
       "3     623837370     623837370            6\n",
       "4     623837370     623837370            2"
      ]
     },
     "execution_count": 58,
     "metadata": {},
     "output_type": "execute_result"
    }
   ],
   "source": [
    "df1_2500_jump=pd.read_csv(\"createdflow2500_jump.csv\")\n",
    "df1_2500_jump=df1_2500_jump.drop(df1_2500_jump.columns[[ 0]], axis=1)\n",
    "df1_2500_jump.head()"
   ]
  },
  {
   "cell_type": "code",
   "execution_count": 59,
   "metadata": {},
   "outputs": [
    {
     "data": {
      "text/html": [
       "<div>\n",
       "<style>\n",
       "    .dataframe thead tr:only-child th {\n",
       "        text-align: right;\n",
       "    }\n",
       "\n",
       "    .dataframe thead th {\n",
       "        text-align: left;\n",
       "    }\n",
       "\n",
       "    .dataframe tbody tr th {\n",
       "        vertical-align: top;\n",
       "    }\n",
       "</style>\n",
       "<table border=\"1\" class=\"dataframe\">\n",
       "  <thead>\n",
       "    <tr style=\"text-align: right;\">\n",
       "      <th></th>\n",
       "      <th>from_cellid</th>\n",
       "      <th>to_cellid</th>\n",
       "      <th>total_flows</th>\n",
       "    </tr>\n",
       "  </thead>\n",
       "  <tbody>\n",
       "    <tr>\n",
       "      <th>0</th>\n",
       "      <td>623837370</td>\n",
       "      <td>1721207829</td>\n",
       "      <td>7831</td>\n",
       "    </tr>\n",
       "    <tr>\n",
       "      <th>1</th>\n",
       "      <td>623837370</td>\n",
       "      <td>2090535958</td>\n",
       "      <td>4312</td>\n",
       "    </tr>\n",
       "    <tr>\n",
       "      <th>2</th>\n",
       "      <td>623837370</td>\n",
       "      <td>849515361</td>\n",
       "      <td>2003</td>\n",
       "    </tr>\n",
       "    <tr>\n",
       "      <th>3</th>\n",
       "      <td>623837370</td>\n",
       "      <td>1519190990</td>\n",
       "      <td>5148</td>\n",
       "    </tr>\n",
       "    <tr>\n",
       "      <th>4</th>\n",
       "      <td>623837370</td>\n",
       "      <td>148222723</td>\n",
       "      <td>57</td>\n",
       "    </tr>\n",
       "  </tbody>\n",
       "</table>\n",
       "</div>"
      ],
      "text/plain": [
       "   from_cellid   to_cellid  total_flows\n",
       "0    623837370  1721207829         7831\n",
       "1    623837370  2090535958         4312\n",
       "2    623837370   849515361         2003\n",
       "3    623837370  1519190990         5148\n",
       "4    623837370   148222723           57"
      ]
     },
     "execution_count": 59,
     "metadata": {},
     "output_type": "execute_result"
    }
   ],
   "source": [
    "df2_2500=pd.read_csv(\"dfflow2500_3.csv\")  # inserting the dfflow1500 which professor gave me\n",
    "df2_2500=df2_2500.drop(df2_2500.columns[[ 0]], axis=1)\n",
    "df2_2500.head()"
   ]
  },
  {
   "cell_type": "code",
   "execution_count": 60,
   "metadata": {},
   "outputs": [
    {
     "data": {
      "text/html": [
       "<div>\n",
       "<style>\n",
       "    .dataframe thead tr:only-child th {\n",
       "        text-align: right;\n",
       "    }\n",
       "\n",
       "    .dataframe thead th {\n",
       "        text-align: left;\n",
       "    }\n",
       "\n",
       "    .dataframe tbody tr th {\n",
       "        vertical-align: top;\n",
       "    }\n",
       "</style>\n",
       "<table border=\"1\" class=\"dataframe\">\n",
       "  <thead>\n",
       "    <tr style=\"text-align: right;\">\n",
       "      <th></th>\n",
       "      <th>from_cellid</th>\n",
       "      <th>to_cellid</th>\n",
       "      <th>total_flows_x</th>\n",
       "      <th>parent1_2500</th>\n",
       "      <th>parent2_2500</th>\n",
       "      <th>total_flows_y</th>\n",
       "    </tr>\n",
       "  </thead>\n",
       "  <tbody>\n",
       "    <tr>\n",
       "      <th>0</th>\n",
       "      <td>623837370</td>\n",
       "      <td>1721207829</td>\n",
       "      <td>7831</td>\n",
       "      <td>623837370</td>\n",
       "      <td>1721207829</td>\n",
       "      <td>1787</td>\n",
       "    </tr>\n",
       "    <tr>\n",
       "      <th>1</th>\n",
       "      <td>623837370</td>\n",
       "      <td>1721207829</td>\n",
       "      <td>7831</td>\n",
       "      <td>623837370</td>\n",
       "      <td>1721207829</td>\n",
       "      <td>15</td>\n",
       "    </tr>\n",
       "    <tr>\n",
       "      <th>2</th>\n",
       "      <td>623837370</td>\n",
       "      <td>1721207829</td>\n",
       "      <td>7831</td>\n",
       "      <td>623837370</td>\n",
       "      <td>1721207829</td>\n",
       "      <td>695</td>\n",
       "    </tr>\n",
       "    <tr>\n",
       "      <th>3</th>\n",
       "      <td>623837370</td>\n",
       "      <td>1721207829</td>\n",
       "      <td>7831</td>\n",
       "      <td>623837370</td>\n",
       "      <td>1721207829</td>\n",
       "      <td>1</td>\n",
       "    </tr>\n",
       "    <tr>\n",
       "      <th>4</th>\n",
       "      <td>623837370</td>\n",
       "      <td>1721207829</td>\n",
       "      <td>7831</td>\n",
       "      <td>623837370</td>\n",
       "      <td>1721207829</td>\n",
       "      <td>221</td>\n",
       "    </tr>\n",
       "  </tbody>\n",
       "</table>\n",
       "</div>"
      ],
      "text/plain": [
       "   from_cellid   to_cellid  total_flows_x  parent1_2500  parent2_2500  \\\n",
       "0    623837370  1721207829           7831     623837370    1721207829   \n",
       "1    623837370  1721207829           7831     623837370    1721207829   \n",
       "2    623837370  1721207829           7831     623837370    1721207829   \n",
       "3    623837370  1721207829           7831     623837370    1721207829   \n",
       "4    623837370  1721207829           7831     623837370    1721207829   \n",
       "\n",
       "   total_flows_y  \n",
       "0           1787  \n",
       "1             15  \n",
       "2            695  \n",
       "3              1  \n",
       "4            221  "
      ]
     },
     "execution_count": 60,
     "metadata": {},
     "output_type": "execute_result"
    }
   ],
   "source": [
    "df3_2500_jump=df2_2500.merge(df1_2500_jump,left_on=[\"from_cellid\",\"to_cellid\"],right_on=[\"parent1_2500\",\"parent2_2500\"])\n",
    "df3_2500_jump.head()"
   ]
  },
  {
   "cell_type": "code",
   "execution_count": 61,
   "metadata": {},
   "outputs": [
    {
     "data": {
      "text/html": [
       "<div>\n",
       "<style>\n",
       "    .dataframe thead tr:only-child th {\n",
       "        text-align: right;\n",
       "    }\n",
       "\n",
       "    .dataframe thead th {\n",
       "        text-align: left;\n",
       "    }\n",
       "\n",
       "    .dataframe tbody tr th {\n",
       "        vertical-align: top;\n",
       "    }\n",
       "</style>\n",
       "<table border=\"1\" class=\"dataframe\">\n",
       "  <thead>\n",
       "    <tr style=\"text-align: right;\">\n",
       "      <th></th>\n",
       "      <th></th>\n",
       "      <th>total_flows_x</th>\n",
       "      <th>total_flows_y</th>\n",
       "    </tr>\n",
       "    <tr>\n",
       "      <th>parent1_2500</th>\n",
       "      <th>parent2_2500</th>\n",
       "      <th></th>\n",
       "      <th></th>\n",
       "    </tr>\n",
       "  </thead>\n",
       "  <tbody>\n",
       "    <tr>\n",
       "      <th rowspan=\"5\" valign=\"top\">461371</th>\n",
       "      <th>6518397</th>\n",
       "      <td>124</td>\n",
       "      <td>159</td>\n",
       "    </tr>\n",
       "    <tr>\n",
       "      <th>118130260</th>\n",
       "      <td>109</td>\n",
       "      <td>219</td>\n",
       "    </tr>\n",
       "    <tr>\n",
       "      <th>624130540</th>\n",
       "      <td>39</td>\n",
       "      <td>86</td>\n",
       "    </tr>\n",
       "    <tr>\n",
       "      <th>1393484058</th>\n",
       "      <td>571</td>\n",
       "      <td>269</td>\n",
       "    </tr>\n",
       "    <tr>\n",
       "      <th>1609638725</th>\n",
       "      <td>2</td>\n",
       "      <td>44</td>\n",
       "    </tr>\n",
       "  </tbody>\n",
       "</table>\n",
       "</div>"
      ],
      "text/plain": [
       "                           total_flows_x  total_flows_y\n",
       "parent1_2500 parent2_2500                              \n",
       "461371       6518397                 124            159\n",
       "             118130260               109            219\n",
       "             624130540                39             86\n",
       "             1393484058              571            269\n",
       "             1609638725                2             44"
      ]
     },
     "execution_count": 61,
     "metadata": {},
     "output_type": "execute_result"
    }
   ],
   "source": [
    "df33_2500_jump=df3_2500_jump.groupby([\"parent1_2500\",\"parent2_2500\"]).agg({\"total_flows_x\":\"min\",\"total_flows_y\":\"sum\"})\n",
    "df33_2500_jump.head()"
   ]
  },
  {
   "cell_type": "code",
   "execution_count": 62,
   "metadata": {},
   "outputs": [
    {
     "name": "stdout",
     "output_type": "stream",
     "text": [
      "sse: 448497435044\n"
     ]
    }
   ],
   "source": [
    "d_2500_jump=SSE(df33_2500_jump.total_flows_x,df33_2500_jump.total_flows_y)\n",
    "pretty_print_SSE(d_2500_jump)"
   ]
  },
  {
   "cell_type": "code",
   "execution_count": 82,
   "metadata": {},
   "outputs": [
    {
     "data": {
      "image/png": "[encoded data removed]",
      "text/plain": [
       "<matplotlib.figure.Figure at 0x2360a00d550>"
      ]
     },
     "metadata": {},
     "output_type": "display_data"
    }
   ],
   "source": [
    "sns.jointplot(x='total_flows_x',y='total_flows_y',data=df33_2500_jump,kind='scatter')\n",
    "plt.xlim([1,10])\n",
    "#plt.ylim([0,10])\n",
    "#,xlim=[0,100],ylim=[0,1000]\n",
    "plt.savefig(\"approximate 200-2500_Jump.png\")"
   ]
  },
  {
   "cell_type": "code",
   "execution_count": null,
   "metadata": {
    "collapsed": true
   },
   "outputs": [],
   "source": []
  },
  {
   "cell_type": "code",
   "execution_count": 70,
   "metadata": {},
   "outputs": [
    {
     "data": {
      "text/plain": [
       "(0.94136328899729038, 0.0)"
      ]
     },
     "execution_count": 70,
     "metadata": {},
     "output_type": "execute_result"
    }
   ],
   "source": [
    "stats.pearsonr(df33_2500_jump.total_flows_y, df33_2500_jump.total_flows_x)"
   ]
  },
  {
   "cell_type": "code",
   "execution_count": 65,
   "metadata": {},
   "outputs": [
    {
     "data": {
      "text/plain": [
       "SpearmanrResult(correlation=0.85120235356483931, pvalue=0.0)"
      ]
     },
     "execution_count": 65,
     "metadata": {},
     "output_type": "execute_result"
    }
   ],
   "source": [
    "stats.spearmanr(df33_2500_jump.total_flows_y, df33_2500_jump.total_flows_x)"
   ]
  },
  {
   "cell_type": "code",
   "execution_count": null,
   "metadata": {
    "collapsed": true
   },
   "outputs": [],
   "source": []
  }
 ],
 "metadata": {
  "kernelspec": {
   "display_name": "Python 3",
   "language": "python",
   "name": "python3"
  },
  "language_info": {
   "codemirror_mode": {
    "name": "ipython",
    "version": 3
   },
   "file_extension": ".py",
   "mimetype": "text/x-python",
   "name": "python",
   "nbconvert_exporter": "python",
   "pygments_lexer": "ipython3",
   "version": "3.6.3"
  }
 },
 "nbformat": 4,
 "nbformat_minor": 2
}
